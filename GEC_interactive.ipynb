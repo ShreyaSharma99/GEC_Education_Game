{
 "cells": [
  {
   "cell_type": "markdown",
   "id": "3c70b2d6",
   "metadata": {},
   "source": [
    "# 0. Install Dependencies"
   ]
  },
  {
   "cell_type": "code",
   "execution_count": 4,
   "id": "939165a1",
   "metadata": {},
   "outputs": [
    {
     "name": "stdout",
     "output_type": "stream",
     "text": [
      "Requirement already satisfied: tensorflow==2.3.0 in /Users/shreya/opt/anaconda3/lib/python3.8/site-packages (2.3.0)\n",
      "Requirement already satisfied: keras-preprocessing<1.2,>=1.1.1 in /Users/shreya/opt/anaconda3/lib/python3.8/site-packages (from tensorflow==2.3.0) (1.1.2)\n",
      "Requirement already satisfied: tensorflow-estimator<2.4.0,>=2.3.0 in /Users/shreya/opt/anaconda3/lib/python3.8/site-packages (from tensorflow==2.3.0) (2.3.0)\n",
      "Requirement already satisfied: scipy==1.4.1 in /Users/shreya/opt/anaconda3/lib/python3.8/site-packages (from tensorflow==2.3.0) (1.4.1)\n",
      "Requirement already satisfied: termcolor>=1.1.0 in /Users/shreya/opt/anaconda3/lib/python3.8/site-packages (from tensorflow==2.3.0) (1.1.0)\n",
      "Requirement already satisfied: wrapt>=1.11.1 in /Users/shreya/opt/anaconda3/lib/python3.8/site-packages (from tensorflow==2.3.0) (1.12.1)\n",
      "Requirement already satisfied: wheel>=0.26 in /Users/shreya/opt/anaconda3/lib/python3.8/site-packages (from tensorflow==2.3.0) (0.36.2)\n",
      "Requirement already satisfied: astunparse==1.6.3 in /Users/shreya/opt/anaconda3/lib/python3.8/site-packages (from tensorflow==2.3.0) (1.6.3)\n",
      "Requirement already satisfied: google-pasta>=0.1.8 in /Users/shreya/opt/anaconda3/lib/python3.8/site-packages (from tensorflow==2.3.0) (0.2.0)\n",
      "Requirement already satisfied: numpy<1.19.0,>=1.16.0 in /Users/shreya/opt/anaconda3/lib/python3.8/site-packages (from tensorflow==2.3.0) (1.18.5)\n",
      "Requirement already satisfied: grpcio>=1.8.6 in /Users/shreya/opt/anaconda3/lib/python3.8/site-packages (from tensorflow==2.3.0) (1.43.0)\n",
      "Requirement already satisfied: gast==0.3.3 in /Users/shreya/opt/anaconda3/lib/python3.8/site-packages (from tensorflow==2.3.0) (0.3.3)\n",
      "Requirement already satisfied: absl-py>=0.7.0 in /Users/shreya/opt/anaconda3/lib/python3.8/site-packages (from tensorflow==2.3.0) (1.0.0)\n",
      "Requirement already satisfied: tensorboard<3,>=2.3.0 in /Users/shreya/opt/anaconda3/lib/python3.8/site-packages (from tensorflow==2.3.0) (2.8.0)\n",
      "Requirement already satisfied: protobuf>=3.9.2 in /Users/shreya/opt/anaconda3/lib/python3.8/site-packages (from tensorflow==2.3.0) (3.19.3)\n",
      "Requirement already satisfied: h5py<2.11.0,>=2.10.0 in /Users/shreya/opt/anaconda3/lib/python3.8/site-packages (from tensorflow==2.3.0) (2.10.0)\n",
      "Requirement already satisfied: six>=1.12.0 in /Users/shreya/opt/anaconda3/lib/python3.8/site-packages (from tensorflow==2.3.0) (1.15.0)\n",
      "Requirement already satisfied: opt-einsum>=2.3.2 in /Users/shreya/opt/anaconda3/lib/python3.8/site-packages (from tensorflow==2.3.0) (3.3.0)\n",
      "Requirement already satisfied: werkzeug>=0.11.15 in /Users/shreya/opt/anaconda3/lib/python3.8/site-packages (from tensorboard<3,>=2.3.0->tensorflow==2.3.0) (1.0.1)\n",
      "Requirement already satisfied: requests<3,>=2.21.0 in /Users/shreya/opt/anaconda3/lib/python3.8/site-packages (from tensorboard<3,>=2.3.0->tensorflow==2.3.0) (2.25.1)\n",
      "Requirement already satisfied: markdown>=2.6.8 in /Users/shreya/opt/anaconda3/lib/python3.8/site-packages (from tensorboard<3,>=2.3.0->tensorflow==2.3.0) (3.3.4)\n",
      "Requirement already satisfied: tensorboard-plugin-wit>=1.6.0 in /Users/shreya/opt/anaconda3/lib/python3.8/site-packages (from tensorboard<3,>=2.3.0->tensorflow==2.3.0) (1.8.1)\n",
      "Requirement already satisfied: google-auth-oauthlib<0.5,>=0.4.1 in /Users/shreya/opt/anaconda3/lib/python3.8/site-packages (from tensorboard<3,>=2.3.0->tensorflow==2.3.0) (0.4.6)\n",
      "Requirement already satisfied: setuptools>=41.0.0 in /Users/shreya/opt/anaconda3/lib/python3.8/site-packages (from tensorboard<3,>=2.3.0->tensorflow==2.3.0) (52.0.0.post20210125)\n",
      "Requirement already satisfied: tensorboard-data-server<0.7.0,>=0.6.0 in /Users/shreya/opt/anaconda3/lib/python3.8/site-packages (from tensorboard<3,>=2.3.0->tensorflow==2.3.0) (0.6.1)\n",
      "Requirement already satisfied: google-auth<3,>=1.6.3 in /Users/shreya/opt/anaconda3/lib/python3.8/site-packages (from tensorboard<3,>=2.3.0->tensorflow==2.3.0) (2.5.0)\n",
      "Requirement already satisfied: cachetools<6.0,>=2.0.0 in /Users/shreya/opt/anaconda3/lib/python3.8/site-packages (from google-auth<3,>=1.6.3->tensorboard<3,>=2.3.0->tensorflow==2.3.0) (5.0.0)\n",
      "Requirement already satisfied: rsa<5,>=3.1.4 in /Users/shreya/opt/anaconda3/lib/python3.8/site-packages (from google-auth<3,>=1.6.3->tensorboard<3,>=2.3.0->tensorflow==2.3.0) (4.8)\n",
      "Requirement already satisfied: pyasn1-modules>=0.2.1 in /Users/shreya/opt/anaconda3/lib/python3.8/site-packages (from google-auth<3,>=1.6.3->tensorboard<3,>=2.3.0->tensorflow==2.3.0) (0.2.8)\n",
      "Requirement already satisfied: requests-oauthlib>=0.7.0 in /Users/shreya/opt/anaconda3/lib/python3.8/site-packages (from google-auth-oauthlib<0.5,>=0.4.1->tensorboard<3,>=2.3.0->tensorflow==2.3.0) (1.3.0)\n",
      "Requirement already satisfied: chardet<5,>=3.0.2 in /Users/shreya/opt/anaconda3/lib/python3.8/site-packages (from requests<3,>=2.21.0->tensorboard<3,>=2.3.0->tensorflow==2.3.0) (4.0.0)\n",
      "Requirement already satisfied: idna<3,>=2.5 in /Users/shreya/opt/anaconda3/lib/python3.8/site-packages (from requests<3,>=2.21.0->tensorboard<3,>=2.3.0->tensorflow==2.3.0) (2.10)\n",
      "Requirement already satisfied: urllib3<1.27,>=1.21.1 in /Users/shreya/opt/anaconda3/lib/python3.8/site-packages (from requests<3,>=2.21.0->tensorboard<3,>=2.3.0->tensorflow==2.3.0) (1.26.8)\n",
      "Requirement already satisfied: certifi>=2017.4.17 in /Users/shreya/opt/anaconda3/lib/python3.8/site-packages (from requests<3,>=2.21.0->tensorboard<3,>=2.3.0->tensorflow==2.3.0) (2020.12.5)\n",
      "Requirement already satisfied: pyasn1<0.5.0,>=0.4.6 in /Users/shreya/opt/anaconda3/lib/python3.8/site-packages (from pyasn1-modules>=0.2.1->google-auth<3,>=1.6.3->tensorboard<3,>=2.3.0->tensorflow==2.3.0) (0.4.8)\n",
      "Requirement already satisfied: oauthlib>=3.0.0 in /Users/shreya/opt/anaconda3/lib/python3.8/site-packages (from requests-oauthlib>=0.7.0->google-auth-oauthlib<0.5,>=0.4.1->tensorboard<3,>=2.3.0->tensorflow==2.3.0) (3.1.1)\n",
      "Requirement already satisfied: gym in /Users/shreya/opt/anaconda3/lib/python3.8/site-packages (0.23.0)\n",
      "Requirement already satisfied: numpy>=1.18.0 in /Users/shreya/opt/anaconda3/lib/python3.8/site-packages (from gym) (1.18.5)\n",
      "Requirement already satisfied: cloudpickle>=1.2.0 in /Users/shreya/opt/anaconda3/lib/python3.8/site-packages (from gym) (1.6.0)\n",
      "Requirement already satisfied: gym-notices>=0.0.4 in /Users/shreya/opt/anaconda3/lib/python3.8/site-packages (from gym) (0.0.6)\n",
      "Requirement already satisfied: importlib-metadata>=4.10.0 in /Users/shreya/opt/anaconda3/lib/python3.8/site-packages (from gym) (4.11.3)\n",
      "Requirement already satisfied: zipp>=0.5 in /Users/shreya/opt/anaconda3/lib/python3.8/site-packages (from importlib-metadata>=4.10.0->gym) (3.4.1)\n",
      "Requirement already satisfied: keras in /Users/shreya/opt/anaconda3/lib/python3.8/site-packages (2.8.0)\n",
      "Requirement already satisfied: keras-rl2 in /Users/shreya/opt/anaconda3/lib/python3.8/site-packages (1.0.5)\n",
      "Requirement already satisfied: tensorflow in /Users/shreya/opt/anaconda3/lib/python3.8/site-packages (from keras-rl2) (2.3.0)\n",
      "Requirement already satisfied: grpcio>=1.8.6 in /Users/shreya/opt/anaconda3/lib/python3.8/site-packages (from tensorflow->keras-rl2) (1.43.0)\n",
      "Requirement already satisfied: keras-preprocessing<1.2,>=1.1.1 in /Users/shreya/opt/anaconda3/lib/python3.8/site-packages (from tensorflow->keras-rl2) (1.1.2)\n",
      "Requirement already satisfied: termcolor>=1.1.0 in /Users/shreya/opt/anaconda3/lib/python3.8/site-packages (from tensorflow->keras-rl2) (1.1.0)\n",
      "Requirement already satisfied: h5py<2.11.0,>=2.10.0 in /Users/shreya/opt/anaconda3/lib/python3.8/site-packages (from tensorflow->keras-rl2) (2.10.0)\n",
      "Requirement already satisfied: protobuf>=3.9.2 in /Users/shreya/opt/anaconda3/lib/python3.8/site-packages (from tensorflow->keras-rl2) (3.19.3)\n",
      "Requirement already satisfied: google-pasta>=0.1.8 in /Users/shreya/opt/anaconda3/lib/python3.8/site-packages (from tensorflow->keras-rl2) (0.2.0)\n",
      "Requirement already satisfied: opt-einsum>=2.3.2 in /Users/shreya/opt/anaconda3/lib/python3.8/site-packages (from tensorflow->keras-rl2) (3.3.0)\n",
      "Requirement already satisfied: tensorboard<3,>=2.3.0 in /Users/shreya/opt/anaconda3/lib/python3.8/site-packages (from tensorflow->keras-rl2) (2.8.0)\n",
      "Requirement already satisfied: tensorflow-estimator<2.4.0,>=2.3.0 in /Users/shreya/opt/anaconda3/lib/python3.8/site-packages (from tensorflow->keras-rl2) (2.3.0)\n",
      "Requirement already satisfied: scipy==1.4.1 in /Users/shreya/opt/anaconda3/lib/python3.8/site-packages (from tensorflow->keras-rl2) (1.4.1)\n",
      "Requirement already satisfied: absl-py>=0.7.0 in /Users/shreya/opt/anaconda3/lib/python3.8/site-packages (from tensorflow->keras-rl2) (1.0.0)\n",
      "Requirement already satisfied: numpy<1.19.0,>=1.16.0 in /Users/shreya/opt/anaconda3/lib/python3.8/site-packages (from tensorflow->keras-rl2) (1.18.5)\n",
      "Requirement already satisfied: wrapt>=1.11.1 in /Users/shreya/opt/anaconda3/lib/python3.8/site-packages (from tensorflow->keras-rl2) (1.12.1)\n",
      "Requirement already satisfied: six>=1.12.0 in /Users/shreya/opt/anaconda3/lib/python3.8/site-packages (from tensorflow->keras-rl2) (1.15.0)\n",
      "Requirement already satisfied: astunparse==1.6.3 in /Users/shreya/opt/anaconda3/lib/python3.8/site-packages (from tensorflow->keras-rl2) (1.6.3)\n",
      "Requirement already satisfied: wheel>=0.26 in /Users/shreya/opt/anaconda3/lib/python3.8/site-packages (from tensorflow->keras-rl2) (0.36.2)\n",
      "Requirement already satisfied: gast==0.3.3 in /Users/shreya/opt/anaconda3/lib/python3.8/site-packages (from tensorflow->keras-rl2) (0.3.3)\n",
      "Requirement already satisfied: tensorboard-plugin-wit>=1.6.0 in /Users/shreya/opt/anaconda3/lib/python3.8/site-packages (from tensorboard<3,>=2.3.0->tensorflow->keras-rl2) (1.8.1)\n",
      "Requirement already satisfied: requests<3,>=2.21.0 in /Users/shreya/opt/anaconda3/lib/python3.8/site-packages (from tensorboard<3,>=2.3.0->tensorflow->keras-rl2) (2.25.1)\n",
      "Requirement already satisfied: markdown>=2.6.8 in /Users/shreya/opt/anaconda3/lib/python3.8/site-packages (from tensorboard<3,>=2.3.0->tensorflow->keras-rl2) (3.3.4)\n",
      "Requirement already satisfied: google-auth-oauthlib<0.5,>=0.4.1 in /Users/shreya/opt/anaconda3/lib/python3.8/site-packages (from tensorboard<3,>=2.3.0->tensorflow->keras-rl2) (0.4.6)\n",
      "Requirement already satisfied: google-auth<3,>=1.6.3 in /Users/shreya/opt/anaconda3/lib/python3.8/site-packages (from tensorboard<3,>=2.3.0->tensorflow->keras-rl2) (2.5.0)\n"
     ]
    },
    {
     "name": "stdout",
     "output_type": "stream",
     "text": [
      "Requirement already satisfied: setuptools>=41.0.0 in /Users/shreya/opt/anaconda3/lib/python3.8/site-packages (from tensorboard<3,>=2.3.0->tensorflow->keras-rl2) (52.0.0.post20210125)\r\n",
      "Requirement already satisfied: tensorboard-data-server<0.7.0,>=0.6.0 in /Users/shreya/opt/anaconda3/lib/python3.8/site-packages (from tensorboard<3,>=2.3.0->tensorflow->keras-rl2) (0.6.1)\r\n",
      "Requirement already satisfied: werkzeug>=0.11.15 in /Users/shreya/opt/anaconda3/lib/python3.8/site-packages (from tensorboard<3,>=2.3.0->tensorflow->keras-rl2) (1.0.1)\r\n",
      "Requirement already satisfied: pyasn1-modules>=0.2.1 in /Users/shreya/opt/anaconda3/lib/python3.8/site-packages (from google-auth<3,>=1.6.3->tensorboard<3,>=2.3.0->tensorflow->keras-rl2) (0.2.8)\r\n",
      "Requirement already satisfied: rsa<5,>=3.1.4 in /Users/shreya/opt/anaconda3/lib/python3.8/site-packages (from google-auth<3,>=1.6.3->tensorboard<3,>=2.3.0->tensorflow->keras-rl2) (4.8)\r\n",
      "Requirement already satisfied: cachetools<6.0,>=2.0.0 in /Users/shreya/opt/anaconda3/lib/python3.8/site-packages (from google-auth<3,>=1.6.3->tensorboard<3,>=2.3.0->tensorflow->keras-rl2) (5.0.0)\r\n",
      "Requirement already satisfied: requests-oauthlib>=0.7.0 in /Users/shreya/opt/anaconda3/lib/python3.8/site-packages (from google-auth-oauthlib<0.5,>=0.4.1->tensorboard<3,>=2.3.0->tensorflow->keras-rl2) (1.3.0)\r\n",
      "Requirement already satisfied: urllib3<1.27,>=1.21.1 in /Users/shreya/opt/anaconda3/lib/python3.8/site-packages (from requests<3,>=2.21.0->tensorboard<3,>=2.3.0->tensorflow->keras-rl2) (1.26.8)\r\n",
      "Requirement already satisfied: idna<3,>=2.5 in /Users/shreya/opt/anaconda3/lib/python3.8/site-packages (from requests<3,>=2.21.0->tensorboard<3,>=2.3.0->tensorflow->keras-rl2) (2.10)\r\n",
      "Requirement already satisfied: certifi>=2017.4.17 in /Users/shreya/opt/anaconda3/lib/python3.8/site-packages (from requests<3,>=2.21.0->tensorboard<3,>=2.3.0->tensorflow->keras-rl2) (2020.12.5)\r\n",
      "Requirement already satisfied: chardet<5,>=3.0.2 in /Users/shreya/opt/anaconda3/lib/python3.8/site-packages (from requests<3,>=2.21.0->tensorboard<3,>=2.3.0->tensorflow->keras-rl2) (4.0.0)\r\n",
      "Requirement already satisfied: pyasn1<0.5.0,>=0.4.6 in /Users/shreya/opt/anaconda3/lib/python3.8/site-packages (from pyasn1-modules>=0.2.1->google-auth<3,>=1.6.3->tensorboard<3,>=2.3.0->tensorflow->keras-rl2) (0.4.8)\r\n",
      "Requirement already satisfied: oauthlib>=3.0.0 in /Users/shreya/opt/anaconda3/lib/python3.8/site-packages (from requests-oauthlib>=0.7.0->google-auth-oauthlib<0.5,>=0.4.1->tensorboard<3,>=2.3.0->tensorflow->keras-rl2) (3.1.1)\r\n"
     ]
    }
   ],
   "source": [
    "!pip install tensorflow==2.3.0\n",
    "!pip install gym\n",
    "!pip install keras\n",
    "!pip install keras-rl2"
   ]
  },
  {
   "cell_type": "markdown",
   "id": "142dfa15",
   "metadata": {},
   "source": [
    "# 1. Test Toy Environment with OpenAI Gym"
   ]
  },
  {
   "cell_type": "code",
   "execution_count": 23,
   "id": "007f331d",
   "metadata": {},
   "outputs": [],
   "source": [
    "from gym import Env\n",
    "from gym.spaces import Discrete, Box\n",
    "import numpy as np\n",
    "import random\n",
    "from gym import spaces\n",
    "# import pandas"
   ]
  },
  {
   "cell_type": "code",
   "execution_count": 11,
   "id": "8a59a984",
   "metadata": {},
   "outputs": [],
   "source": [
    "vocab = [\"\", \"I\", \"he\", \"she\", \"they\", \"am\", \"is\", \"are\", \"was\", \"were\", \"go\", \"going\", \"goes\", \"went\", \"market\", \n",
    "         \"amusement-park\", \"to\", \"a\", \"an\", \"the\"]\n",
    "vocab_size = len(vocab)\n",
    "max_len = 10\n",
    "Sample_sent = [\"I is going to market.\", \"She am go to market.\", \"They are go to a amusement-park.\", \n",
    "               \"He going to an market.\", \"I were going.\"]"
   ]
  },
  {
   "cell_type": "code",
   "execution_count": 29,
   "id": "1af3f263",
   "metadata": {},
   "outputs": [],
   "source": [
    "def print_sent(sent):\n",
    "    table = []\n",
    "    sent = sent.split()\n",
    "    for i in range(len(sent)):\n",
    "        print(sent[i]+\"(\" + str(i) + \")\", end = \" \")"
   ]
  },
  {
   "cell_type": "code",
   "execution_count": 25,
   "id": "f023ea18",
   "metadata": {},
   "outputs": [
    {
     "name": "stdout",
     "output_type": "stream",
     "text": [
      "I(0) am(1) shreya(2) "
     ]
    }
   ],
   "source": [
    "print_sent(\"I am shreya\")"
   ]
  },
  {
   "cell_type": "code",
   "execution_count": 46,
   "id": "2e8f1a05",
   "metadata": {},
   "outputs": [],
   "source": [
    "class OurCustomEnv(Env):\n",
    "\n",
    "    def __init__(self):\n",
    "\n",
    "        self.sent = \"\"\n",
    "        #self.sales_function = sales_function     #calculating sales based on spends\n",
    "        self.high =np.array([vocab_size] * max_len, dtype=np.int32)\n",
    "        self.low =np.array([0] * max_len, dtype=np.int32)\n",
    "        \n",
    "        #we create an observation space with predefined range\n",
    "        self.observation_space = Box(low=self.low, high=self.high, dtype = np.float32)\n",
    "\n",
    "        #similar to observation, we define action space \n",
    "        self.action_space = [\"Replace\", \"Delete\", \"Add\"]\n",
    "        \n",
    "    \n",
    "    def step(self, action, arg1, arg2=0):\n",
    "        \n",
    "        if action == \"Delete\":\n",
    "            sent1 = self.sent.split()\n",
    "            self.sent = \" \".join(sent1[:arg1] + sent1[arg1+1:])\n",
    "        \n",
    "        elif action == \"Add\":\n",
    "            sent1 = self.sent.split()\n",
    "            self.sent = \" \".join(sent1[:arg1] + [vocab[arg2]] + sent1[arg1:])\n",
    "            \n",
    "        elif action == \"Replace\":\n",
    "            sent1 = self.sent.split()\n",
    "            self.sent = \" \".join(sent1[:arg1] + [vocab[arg2]] + sent1[arg1+1:])\n",
    "        \n",
    "        reward = 0.0\n",
    "        reward = 1  #gives total sales based on spends\n",
    "        done = True                            #Condition for completion of episode\n",
    "        info = {}        \n",
    "\n",
    "        return self.sent, reward, done, info \n",
    "\n",
    "    def reset(self):\n",
    "        self.sent = Sample_sent[random.randint(0, len(Sample_sent))-1]\n",
    "        return self.sent\n",
    "    \n",
    "def act(action, ind1, string=\"\"):\n",
    "    if action == \"Delete\":\n",
    "        return env.step(\"Delete\", ind1)\n",
    "    else:\n",
    "        return env.step(action, ind1, vocab.index(string))    "
   ]
  },
  {
   "cell_type": "code",
   "execution_count": 56,
   "id": "52526b66",
   "metadata": {},
   "outputs": [],
   "source": [
    "env = OurCustomEnv()\n",
    "state = env.reset()"
   ]
  },
  {
   "cell_type": "code",
   "execution_count": 57,
   "id": "394f71dc",
   "metadata": {},
   "outputs": [
    {
     "name": "stdout",
     "output_type": "stream",
     "text": [
      "She(0) am(1) go(2) to(3) market.(4) "
     ]
    }
   ],
   "source": [
    "print_sent(state)"
   ]
  },
  {
   "cell_type": "code",
   "execution_count": 58,
   "id": "8d5dd0af",
   "metadata": {},
   "outputs": [
    {
     "data": {
      "text/plain": [
       "('She go to market.', 1, True, {})"
      ]
     },
     "execution_count": 58,
     "metadata": {},
     "output_type": "execute_result"
    }
   ],
   "source": [
    "act1 = act(\"Delete\", 1)\n",
    "act1"
   ]
  },
  {
   "cell_type": "code",
   "execution_count": 59,
   "id": "680441a1",
   "metadata": {},
   "outputs": [
    {
     "data": {
      "text/plain": [
       "('She goes to market.', 1, True, {})"
      ]
     },
     "execution_count": 59,
     "metadata": {},
     "output_type": "execute_result"
    }
   ],
   "source": [
    "act2 = act(\"Replace\", 1, \"goes\")\n",
    "act2"
   ]
  },
  {
   "cell_type": "code",
   "execution_count": 60,
   "id": "84a50284",
   "metadata": {},
   "outputs": [
    {
     "data": {
      "text/plain": [
       "('She goes to the market.', 1, True, {})"
      ]
     },
     "execution_count": 60,
     "metadata": {},
     "output_type": "execute_result"
    }
   ],
   "source": [
    "act3 = act(\"Add\", 3, \"the\")\n",
    "act3"
   ]
  },
  {
   "cell_type": "code",
   "execution_count": null,
   "id": "47fad6d6",
   "metadata": {},
   "outputs": [],
   "source": []
  }
 ],
 "metadata": {
  "kernelspec": {
   "display_name": "Python 3",
   "language": "python",
   "name": "python3"
  },
  "language_info": {
   "codemirror_mode": {
    "name": "ipython",
    "version": 3
   },
   "file_extension": ".py",
   "mimetype": "text/x-python",
   "name": "python",
   "nbconvert_exporter": "python",
   "pygments_lexer": "ipython3",
   "version": "3.8.8"
  }
 },
 "nbformat": 4,
 "nbformat_minor": 5
}
