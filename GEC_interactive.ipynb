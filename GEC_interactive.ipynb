{
 "cells": [
  {
   "cell_type": "markdown",
   "id": "54657cd7",
   "metadata": {},
   "source": [
    "# 0. Install Dependencies"
   ]
  },
  {
   "cell_type": "code",
   "execution_count": 1,
   "id": "4545b2cd",
   "metadata": {},
   "outputs": [
    {
     "name": "stdout",
     "output_type": "stream",
     "text": [
      "Requirement already satisfied: tensorflow==2.3.0 in /Users/shreya/opt/anaconda3/lib/python3.8/site-packages (2.3.0)\n",
      "Requirement already satisfied: tensorboard<3,>=2.3.0 in /Users/shreya/opt/anaconda3/lib/python3.8/site-packages (from tensorflow==2.3.0) (2.8.0)\n",
      "Requirement already satisfied: numpy<1.19.0,>=1.16.0 in /Users/shreya/opt/anaconda3/lib/python3.8/site-packages (from tensorflow==2.3.0) (1.18.5)\n",
      "Requirement already satisfied: wrapt>=1.11.1 in /Users/shreya/opt/anaconda3/lib/python3.8/site-packages (from tensorflow==2.3.0) (1.12.1)\n",
      "Requirement already satisfied: grpcio>=1.8.6 in /Users/shreya/opt/anaconda3/lib/python3.8/site-packages (from tensorflow==2.3.0) (1.43.0)\n",
      "Requirement already satisfied: opt-einsum>=2.3.2 in /Users/shreya/opt/anaconda3/lib/python3.8/site-packages (from tensorflow==2.3.0) (3.3.0)\n",
      "Requirement already satisfied: astunparse==1.6.3 in /Users/shreya/opt/anaconda3/lib/python3.8/site-packages (from tensorflow==2.3.0) (1.6.3)\n",
      "Requirement already satisfied: gast==0.3.3 in /Users/shreya/opt/anaconda3/lib/python3.8/site-packages (from tensorflow==2.3.0) (0.3.3)\n",
      "Requirement already satisfied: keras-preprocessing<1.2,>=1.1.1 in /Users/shreya/opt/anaconda3/lib/python3.8/site-packages (from tensorflow==2.3.0) (1.1.2)\n",
      "Requirement already satisfied: protobuf>=3.9.2 in /Users/shreya/opt/anaconda3/lib/python3.8/site-packages (from tensorflow==2.3.0) (3.19.3)\n",
      "Requirement already satisfied: six>=1.12.0 in /Users/shreya/opt/anaconda3/lib/python3.8/site-packages (from tensorflow==2.3.0) (1.15.0)\n",
      "Requirement already satisfied: absl-py>=0.7.0 in /Users/shreya/opt/anaconda3/lib/python3.8/site-packages (from tensorflow==2.3.0) (1.0.0)\n",
      "Requirement already satisfied: termcolor>=1.1.0 in /Users/shreya/opt/anaconda3/lib/python3.8/site-packages (from tensorflow==2.3.0) (1.1.0)\n",
      "Requirement already satisfied: scipy==1.4.1 in /Users/shreya/opt/anaconda3/lib/python3.8/site-packages (from tensorflow==2.3.0) (1.4.1)\n",
      "Requirement already satisfied: h5py<2.11.0,>=2.10.0 in /Users/shreya/opt/anaconda3/lib/python3.8/site-packages (from tensorflow==2.3.0) (2.10.0)\n",
      "Requirement already satisfied: google-pasta>=0.1.8 in /Users/shreya/opt/anaconda3/lib/python3.8/site-packages (from tensorflow==2.3.0) (0.2.0)\n",
      "Requirement already satisfied: wheel>=0.26 in /Users/shreya/opt/anaconda3/lib/python3.8/site-packages (from tensorflow==2.3.0) (0.36.2)\n",
      "Requirement already satisfied: tensorflow-estimator<2.4.0,>=2.3.0 in /Users/shreya/opt/anaconda3/lib/python3.8/site-packages (from tensorflow==2.3.0) (2.3.0)\n",
      "Requirement already satisfied: markdown>=2.6.8 in /Users/shreya/opt/anaconda3/lib/python3.8/site-packages (from tensorboard<3,>=2.3.0->tensorflow==2.3.0) (3.3.4)\n",
      "Requirement already satisfied: requests<3,>=2.21.0 in /Users/shreya/opt/anaconda3/lib/python3.8/site-packages (from tensorboard<3,>=2.3.0->tensorflow==2.3.0) (2.25.1)\n",
      "Requirement already satisfied: tensorboard-data-server<0.7.0,>=0.6.0 in /Users/shreya/opt/anaconda3/lib/python3.8/site-packages (from tensorboard<3,>=2.3.0->tensorflow==2.3.0) (0.6.1)\n",
      "Requirement already satisfied: google-auth-oauthlib<0.5,>=0.4.1 in /Users/shreya/opt/anaconda3/lib/python3.8/site-packages (from tensorboard<3,>=2.3.0->tensorflow==2.3.0) (0.4.6)\n",
      "Requirement already satisfied: setuptools>=41.0.0 in /Users/shreya/opt/anaconda3/lib/python3.8/site-packages (from tensorboard<3,>=2.3.0->tensorflow==2.3.0) (52.0.0.post20210125)\n",
      "Requirement already satisfied: google-auth<3,>=1.6.3 in /Users/shreya/opt/anaconda3/lib/python3.8/site-packages (from tensorboard<3,>=2.3.0->tensorflow==2.3.0) (2.5.0)\n",
      "Requirement already satisfied: werkzeug>=0.11.15 in /Users/shreya/opt/anaconda3/lib/python3.8/site-packages (from tensorboard<3,>=2.3.0->tensorflow==2.3.0) (1.0.1)\n",
      "Requirement already satisfied: tensorboard-plugin-wit>=1.6.0 in /Users/shreya/opt/anaconda3/lib/python3.8/site-packages (from tensorboard<3,>=2.3.0->tensorflow==2.3.0) (1.8.1)\n",
      "Requirement already satisfied: cachetools<6.0,>=2.0.0 in /Users/shreya/opt/anaconda3/lib/python3.8/site-packages (from google-auth<3,>=1.6.3->tensorboard<3,>=2.3.0->tensorflow==2.3.0) (5.0.0)\n",
      "Requirement already satisfied: pyasn1-modules>=0.2.1 in /Users/shreya/opt/anaconda3/lib/python3.8/site-packages (from google-auth<3,>=1.6.3->tensorboard<3,>=2.3.0->tensorflow==2.3.0) (0.2.8)\n",
      "Requirement already satisfied: rsa<5,>=3.1.4 in /Users/shreya/opt/anaconda3/lib/python3.8/site-packages (from google-auth<3,>=1.6.3->tensorboard<3,>=2.3.0->tensorflow==2.3.0) (4.8)\n",
      "Requirement already satisfied: requests-oauthlib>=0.7.0 in /Users/shreya/opt/anaconda3/lib/python3.8/site-packages (from google-auth-oauthlib<0.5,>=0.4.1->tensorboard<3,>=2.3.0->tensorflow==2.3.0) (1.3.0)\n",
      "Requirement already satisfied: urllib3<1.27,>=1.21.1 in /Users/shreya/opt/anaconda3/lib/python3.8/site-packages (from requests<3,>=2.21.0->tensorboard<3,>=2.3.0->tensorflow==2.3.0) (1.26.8)\n",
      "Requirement already satisfied: idna<3,>=2.5 in /Users/shreya/opt/anaconda3/lib/python3.8/site-packages (from requests<3,>=2.21.0->tensorboard<3,>=2.3.0->tensorflow==2.3.0) (2.10)\n",
      "Requirement already satisfied: chardet<5,>=3.0.2 in /Users/shreya/opt/anaconda3/lib/python3.8/site-packages (from requests<3,>=2.21.0->tensorboard<3,>=2.3.0->tensorflow==2.3.0) (4.0.0)\n",
      "Requirement already satisfied: certifi>=2017.4.17 in /Users/shreya/opt/anaconda3/lib/python3.8/site-packages (from requests<3,>=2.21.0->tensorboard<3,>=2.3.0->tensorflow==2.3.0) (2020.12.5)\n",
      "Requirement already satisfied: pyasn1<0.5.0,>=0.4.6 in /Users/shreya/opt/anaconda3/lib/python3.8/site-packages (from pyasn1-modules>=0.2.1->google-auth<3,>=1.6.3->tensorboard<3,>=2.3.0->tensorflow==2.3.0) (0.4.8)\n",
      "Requirement already satisfied: oauthlib>=3.0.0 in /Users/shreya/opt/anaconda3/lib/python3.8/site-packages (from requests-oauthlib>=0.7.0->google-auth-oauthlib<0.5,>=0.4.1->tensorboard<3,>=2.3.0->tensorflow==2.3.0) (3.1.1)\n",
      "Requirement already satisfied: gym in /Users/shreya/opt/anaconda3/lib/python3.8/site-packages (0.23.0)\n",
      "Requirement already satisfied: importlib-metadata>=4.10.0 in /Users/shreya/opt/anaconda3/lib/python3.8/site-packages (from gym) (4.11.3)\n",
      "Requirement already satisfied: gym-notices>=0.0.4 in /Users/shreya/opt/anaconda3/lib/python3.8/site-packages (from gym) (0.0.6)\n",
      "Requirement already satisfied: cloudpickle>=1.2.0 in /Users/shreya/opt/anaconda3/lib/python3.8/site-packages (from gym) (1.6.0)\n",
      "Requirement already satisfied: numpy>=1.18.0 in /Users/shreya/opt/anaconda3/lib/python3.8/site-packages (from gym) (1.18.5)\n",
      "Requirement already satisfied: zipp>=0.5 in /Users/shreya/opt/anaconda3/lib/python3.8/site-packages (from importlib-metadata>=4.10.0->gym) (3.4.1)\n",
      "Requirement already satisfied: keras in /Users/shreya/opt/anaconda3/lib/python3.8/site-packages (2.8.0)\n",
      "Requirement already satisfied: keras-rl2 in /Users/shreya/opt/anaconda3/lib/python3.8/site-packages (1.0.5)\n",
      "Requirement already satisfied: tensorflow in /Users/shreya/opt/anaconda3/lib/python3.8/site-packages (from keras-rl2) (2.3.0)\n",
      "Requirement already satisfied: google-pasta>=0.1.8 in /Users/shreya/opt/anaconda3/lib/python3.8/site-packages (from tensorflow->keras-rl2) (0.2.0)\n",
      "Requirement already satisfied: tensorboard<3,>=2.3.0 in /Users/shreya/opt/anaconda3/lib/python3.8/site-packages (from tensorflow->keras-rl2) (2.8.0)\n",
      "Requirement already satisfied: wheel>=0.26 in /Users/shreya/opt/anaconda3/lib/python3.8/site-packages (from tensorflow->keras-rl2) (0.36.2)\n",
      "Requirement already satisfied: termcolor>=1.1.0 in /Users/shreya/opt/anaconda3/lib/python3.8/site-packages (from tensorflow->keras-rl2) (1.1.0)\n",
      "Requirement already satisfied: h5py<2.11.0,>=2.10.0 in /Users/shreya/opt/anaconda3/lib/python3.8/site-packages (from tensorflow->keras-rl2) (2.10.0)\n",
      "Requirement already satisfied: astunparse==1.6.3 in /Users/shreya/opt/anaconda3/lib/python3.8/site-packages (from tensorflow->keras-rl2) (1.6.3)\n",
      "Requirement already satisfied: wrapt>=1.11.1 in /Users/shreya/opt/anaconda3/lib/python3.8/site-packages (from tensorflow->keras-rl2) (1.12.1)\n",
      "Requirement already satisfied: grpcio>=1.8.6 in /Users/shreya/opt/anaconda3/lib/python3.8/site-packages (from tensorflow->keras-rl2) (1.43.0)\n",
      "Requirement already satisfied: numpy<1.19.0,>=1.16.0 in /Users/shreya/opt/anaconda3/lib/python3.8/site-packages (from tensorflow->keras-rl2) (1.18.5)\n",
      "Requirement already satisfied: gast==0.3.3 in /Users/shreya/opt/anaconda3/lib/python3.8/site-packages (from tensorflow->keras-rl2) (0.3.3)\n",
      "Requirement already satisfied: keras-preprocessing<1.2,>=1.1.1 in /Users/shreya/opt/anaconda3/lib/python3.8/site-packages (from tensorflow->keras-rl2) (1.1.2)\n",
      "Requirement already satisfied: tensorflow-estimator<2.4.0,>=2.3.0 in /Users/shreya/opt/anaconda3/lib/python3.8/site-packages (from tensorflow->keras-rl2) (2.3.0)\n",
      "Requirement already satisfied: scipy==1.4.1 in /Users/shreya/opt/anaconda3/lib/python3.8/site-packages (from tensorflow->keras-rl2) (1.4.1)\n",
      "Requirement already satisfied: protobuf>=3.9.2 in /Users/shreya/opt/anaconda3/lib/python3.8/site-packages (from tensorflow->keras-rl2) (3.19.3)\n",
      "Requirement already satisfied: six>=1.12.0 in /Users/shreya/opt/anaconda3/lib/python3.8/site-packages (from tensorflow->keras-rl2) (1.15.0)\n",
      "Requirement already satisfied: absl-py>=0.7.0 in /Users/shreya/opt/anaconda3/lib/python3.8/site-packages (from tensorflow->keras-rl2) (1.0.0)\n",
      "Requirement already satisfied: opt-einsum>=2.3.2 in /Users/shreya/opt/anaconda3/lib/python3.8/site-packages (from tensorflow->keras-rl2) (3.3.0)\n"
     ]
    },
    {
     "name": "stdout",
     "output_type": "stream",
     "text": [
      "Requirement already satisfied: tensorboard-data-server<0.7.0,>=0.6.0 in /Users/shreya/opt/anaconda3/lib/python3.8/site-packages (from tensorboard<3,>=2.3.0->tensorflow->keras-rl2) (0.6.1)\n",
      "Requirement already satisfied: google-auth-oauthlib<0.5,>=0.4.1 in /Users/shreya/opt/anaconda3/lib/python3.8/site-packages (from tensorboard<3,>=2.3.0->tensorflow->keras-rl2) (0.4.6)\n",
      "Requirement already satisfied: requests<3,>=2.21.0 in /Users/shreya/opt/anaconda3/lib/python3.8/site-packages (from tensorboard<3,>=2.3.0->tensorflow->keras-rl2) (2.25.1)\n",
      "Requirement already satisfied: tensorboard-plugin-wit>=1.6.0 in /Users/shreya/opt/anaconda3/lib/python3.8/site-packages (from tensorboard<3,>=2.3.0->tensorflow->keras-rl2) (1.8.1)\n",
      "Requirement already satisfied: werkzeug>=0.11.15 in /Users/shreya/opt/anaconda3/lib/python3.8/site-packages (from tensorboard<3,>=2.3.0->tensorflow->keras-rl2) (1.0.1)\n",
      "Requirement already satisfied: google-auth<3,>=1.6.3 in /Users/shreya/opt/anaconda3/lib/python3.8/site-packages (from tensorboard<3,>=2.3.0->tensorflow->keras-rl2) (2.5.0)\n",
      "Requirement already satisfied: setuptools>=41.0.0 in /Users/shreya/opt/anaconda3/lib/python3.8/site-packages (from tensorboard<3,>=2.3.0->tensorflow->keras-rl2) (52.0.0.post20210125)\n",
      "Requirement already satisfied: markdown>=2.6.8 in /Users/shreya/opt/anaconda3/lib/python3.8/site-packages (from tensorboard<3,>=2.3.0->tensorflow->keras-rl2) (3.3.4)\n",
      "Requirement already satisfied: cachetools<6.0,>=2.0.0 in /Users/shreya/opt/anaconda3/lib/python3.8/site-packages (from google-auth<3,>=1.6.3->tensorboard<3,>=2.3.0->tensorflow->keras-rl2) (5.0.0)\n",
      "Requirement already satisfied: pyasn1-modules>=0.2.1 in /Users/shreya/opt/anaconda3/lib/python3.8/site-packages (from google-auth<3,>=1.6.3->tensorboard<3,>=2.3.0->tensorflow->keras-rl2) (0.2.8)\n",
      "Requirement already satisfied: rsa<5,>=3.1.4 in /Users/shreya/opt/anaconda3/lib/python3.8/site-packages (from google-auth<3,>=1.6.3->tensorboard<3,>=2.3.0->tensorflow->keras-rl2) (4.8)\n",
      "Requirement already satisfied: requests-oauthlib>=0.7.0 in /Users/shreya/opt/anaconda3/lib/python3.8/site-packages (from google-auth-oauthlib<0.5,>=0.4.1->tensorboard<3,>=2.3.0->tensorflow->keras-rl2) (1.3.0)\n",
      "Requirement already satisfied: chardet<5,>=3.0.2 in /Users/shreya/opt/anaconda3/lib/python3.8/site-packages (from requests<3,>=2.21.0->tensorboard<3,>=2.3.0->tensorflow->keras-rl2) (4.0.0)\n",
      "Requirement already satisfied: urllib3<1.27,>=1.21.1 in /Users/shreya/opt/anaconda3/lib/python3.8/site-packages (from requests<3,>=2.21.0->tensorboard<3,>=2.3.0->tensorflow->keras-rl2) (1.26.8)\n",
      "Requirement already satisfied: certifi>=2017.4.17 in /Users/shreya/opt/anaconda3/lib/python3.8/site-packages (from requests<3,>=2.21.0->tensorboard<3,>=2.3.0->tensorflow->keras-rl2) (2020.12.5)\n",
      "Requirement already satisfied: idna<3,>=2.5 in /Users/shreya/opt/anaconda3/lib/python3.8/site-packages (from requests<3,>=2.21.0->tensorboard<3,>=2.3.0->tensorflow->keras-rl2) (2.10)\n",
      "Requirement already satisfied: pyasn1<0.5.0,>=0.4.6 in /Users/shreya/opt/anaconda3/lib/python3.8/site-packages (from pyasn1-modules>=0.2.1->google-auth<3,>=1.6.3->tensorboard<3,>=2.3.0->tensorflow->keras-rl2) (0.4.8)\n",
      "Requirement already satisfied: oauthlib>=3.0.0 in /Users/shreya/opt/anaconda3/lib/python3.8/site-packages (from requests-oauthlib>=0.7.0->google-auth-oauthlib<0.5,>=0.4.1->tensorboard<3,>=2.3.0->tensorflow->keras-rl2) (3.1.1)\n"
     ]
    }
   ],
   "source": [
    "!pip install tensorflow==2.3.0\n",
    "!pip install gym\n",
    "!pip install keras\n",
    "!pip install keras-rl2"
   ]
  },
  {
   "cell_type": "markdown",
   "id": "54dae8cd",
   "metadata": {},
   "source": [
    "# 1. Test Toy Environment with OpenAI Gym"
   ]
  },
  {
   "cell_type": "code",
   "execution_count": 3,
   "id": "c7e474a2",
   "metadata": {},
   "outputs": [],
   "source": [
    "from gym import Env\n",
    "from gym.spaces import Discrete, Box\n",
    "import numpy as np\n",
    "import random\n",
    "from gym import spaces\n",
    "import os\n"
   ]
  },
  {
   "cell_type": "code",
   "execution_count": 4,
   "id": "00c9149d",
   "metadata": {},
   "outputs": [],
   "source": [
    "# inpute one annotator correction in the fporm of a dictionary like -\n",
    "# {'S': 'Genetic risk refers more to your chance of inheriting a disorder or disease .', \n",
    "# 'A_list': [{'indices': ['3', '4'], 'error_tag': 'Rloc-', 'correction': ''}]}\n",
    "def get_correct(data):\n",
    "    sent = data[\"S\"].split()\n",
    "    shift = 0\n",
    "    for action in data[\"A_list\"]:\n",
    "        index = action[\"indices\"]\n",
    "        sent = sent[:index[0]+shift] + [action[\"correction\"]] + sent[index[1]+shift:]\n",
    "        if index[0] == index[1]: shift += 1  \n",
    "    return \" \".join(sent)"
   ]
  },
  {
   "cell_type": "code",
   "execution_count": 5,
   "id": "f8cba51e",
   "metadata": {},
   "outputs": [],
   "source": [
    "# string matching reward\n",
    "def get_ied(instseq1, instseq2):\n",
    "    m = len(instseq1)\n",
    "    n = len(instseq2)\n",
    "    if min(m,n) == 0: return 0\n",
    "    cost_matrix = {}\n",
    "    for i in range(m+1):\n",
    "        for j in range(n+1):\n",
    "            if min(i,j) == 0:\n",
    "                cost_matrix[str(i)+'_'+str(j)] = max(i,j)\n",
    "                continue\n",
    "            cost = 1\n",
    "            try:\n",
    "                if instseq1[i-1] == (instseq2[j-1]):\n",
    "                    cost = 0\n",
    "            except:\n",
    "                raise Exception('levenshtein calculation error')\n",
    "            a = cost_matrix[str(i-1)+'_'+str(j)]+1\n",
    "            b = cost_matrix[str(i)+'_'+str(j-1)]+1\n",
    "            c = cost_matrix[str(i-1)+'_'+str(j-1)]+cost\n",
    "            cost_matrix[str(i)+'_'+str(j)] = min(a, min(b,c))\n",
    "    ed = float(cost_matrix[str(m)+'_'+str(n)])\n",
    "    return 1 - (ed / max(m,n))\n",
    "\n",
    "def print_sent(sent):\n",
    "    table = []\n",
    "    sent = sent.split()\n",
    "    for i in range(len(sent)):\n",
    "        print(sent[i]+\"(\" + str(i) + \")\", end = \" \")"
   ]
  },
  {
   "cell_type": "code",
   "execution_count": 6,
   "id": "df0860ee",
   "metadata": {},
   "outputs": [
    {
     "data": {
      "text/plain": [
       "\" datapoint 301\\n[{'S': 'One of the diseases is sickle cell trait .',\\n  'A_list': [{'indices': [2, 3],\\n    'error_tag': 'ArtOrDet',\\n    'correction': 'these'}],\\n  'G': 'One of these diseases is sickle cell trait .'},\\n {'S': 'One of the diseases is sickle cell trait .',\\n  'A_list': [{'indices': [1, 2], 'error_tag': 'Prep', 'correction': ''},\\n   {'indices': [2, 3], 'error_tag': 'ArtOrDet', 'correction': 'such'},\\n   {'indices': [3, 4], 'error_tag': 'Nn', 'correction': 'disease'}],\\n  'G': 'One  such disease is sickle cell trait .'}, ..........]\\n\""
      ]
     },
     "execution_count": 6,
     "metadata": {},
     "output_type": "execute_result"
    }
   ],
   "source": [
    "\"\"\" datapoint 301\n",
    "[{'S': 'One of the diseases is sickle cell trait .',\n",
    "  'A_list': [{'indices': [2, 3],\n",
    "    'error_tag': 'ArtOrDet',\n",
    "    'correction': 'these'}],\n",
    "  'G': 'One of these diseases is sickle cell trait .'},\n",
    " {'S': 'One of the diseases is sickle cell trait .',\n",
    "  'A_list': [{'indices': [1, 2], 'error_tag': 'Prep', 'correction': ''},\n",
    "   {'indices': [2, 3], 'error_tag': 'ArtOrDet', 'correction': 'such'},\n",
    "   {'indices': [3, 4], 'error_tag': 'Nn', 'correction': 'disease'}],\n",
    "  'G': 'One  such disease is sickle cell trait .'}, ..........]\n",
    "\"\"\""
   ]
  },
  {
   "cell_type": "code",
   "execution_count": 7,
   "id": "153b1069",
   "metadata": {},
   "outputs": [
    {
     "ename": "SyntaxError",
     "evalue": "invalid syntax (<ipython-input-7-72dd9856ec4f>, line 5)",
     "output_type": "error",
     "traceback": [
      "\u001b[0;36m  File \u001b[0;32m\"<ipython-input-7-72dd9856ec4f>\"\u001b[0;36m, line \u001b[0;32m5\u001b[0m\n\u001b[0;31m    feedback_template = ['ArtOrDet' : \"Article\",\u001b[0m\n\u001b[0m                                    ^\u001b[0m\n\u001b[0;31mSyntaxError\u001b[0m\u001b[0;31m:\u001b[0m invalid syntax\n"
     ]
    }
   ],
   "source": [
    "error_tags = ['ArtOrDet', 'Mec', 'Nn', 'Npos', 'Others', 'Pform', 'Pref', 'Prep', 'Rloc-', 'SVA', 'Sfrag', 'Smod', \n",
    "              'Srun', 'Ssub', 'Trans', 'Um', 'V0', 'Vform', 'Vm', 'Vt', 'WOadv', 'WOinc', 'Wci', 'Wform', 'Wtone']\n",
    "feedback_template = {}\n",
    "standard_string = \"missing or incorrect\"\n",
    "feedback_template = ['ArtOrDet' : \"Article\", \n",
    "                  'Mec' : \"Punctuation / capitalization / spelling\",\n",
    "                  'Nn' : \"Noun number incorrect\",\n",
    "                  'Npos' : \"Possesive Noun\",\n",
    "                  'Pform' : \"Pronoun Form\",\n",
    "                  'Pref' : \"Pronoun reference\",\n",
    "                  'Prep' : \"Preposition\",\n",
    "                  'Rloc-' : \"Local Redundency\",\n",
    "                  'SVA' : \"Subject-verb-agreement\",\n",
    "                  'Sfrag' : \"Sentence fragmant\",\n",
    "                  'Smod' : \"Dangling MOdifier\",  #modifier could be misinterpreted as being associated with a word other than the one intended\n",
    "                  'Srun' : \"Runons / comma splice\",  # fault is the use of a comma to join two independent clauses\n",
    "                  'Ssub' : \"Subordinate clause\", # \"I know that Bette is a dolphin\" - here \"that Bette is a dolphin\" occurs as the complement of the verb \"know\" \n",
    "                  'Trans' : \"Conjuctions\",\n",
    "                  'V0' : \"Missing verb\",\n",
    "                  'Vform' : \"Verb form\",\n",
    "                  'Vm' : \"Verb modal\",\n",
    "                  'Vt' : \"Verb tense\",\n",
    "                  'WOadv' : \"Adverb/adjective position\",\n",
    "                  'Wci' : \" Wrong collocation\", # it went fair well -> fairly\n",
    "                  'Wform' : \"Word form\"\n",
    "                 ]\n",
    "\n",
    "\n",
    "# generating feedback with respect to annotator 1\n",
    "def generate_feedback(datapoint):\n",
    "    return feedback_template[datapoint[0][\"error_tag\"]]"
   ]
  },
  {
   "cell_type": "code",
   "execution_count": 8,
   "id": "9cb3d685",
   "metadata": {},
   "outputs": [],
   "source": [
    "file_path_10gec = \"../Datasets/10gec_annotations/\"\n",
    "file = open(file_path_10gec + \"A1.m2\")\n",
    "\n",
    "Sample_sent = []\n",
    "Vocab = set()\n",
    "error_tags = set()\n",
    "max_len = 0\n",
    "\n",
    "for line in file.readlines():\n",
    "    if line[0] == \"S\" and len(line[2:].strip())>0:\n",
    "        Sample_sent.append(line[2:].strip())\n",
    "        Vocab.update(set(line[2:].strip().split()))\n",
    "        max_len = max(max_len, len(line[2:].strip().split()))\n",
    "    if line[0] == \"A\":\n",
    "        words = line.split(\"|||\")\n",
    "        Vocab.update(set(words[2].split()))\n",
    "        error_tags.update(set(words[1].split()))\n",
    "Vocab = list(Vocab) + [\"reflected\"]\n",
    "vocab_size = len(Vocab)"
   ]
  },
  {
   "cell_type": "code",
   "execution_count": 9,
   "id": "0dda84c2",
   "metadata": {},
   "outputs": [
    {
     "name": "stdout",
     "output_type": "stream",
     "text": [
      "'ArtOrDet', 'Mec', 'Nn', 'Npos', 'Others', 'Pform', 'Pref', 'Prep', 'Rloc-', 'SVA', 'Sfrag', 'Smod', 'Srun', 'Ssub', 'Trans', 'Um', 'V0', 'Vform', 'Vm', 'Vt', 'WOadv', 'WOinc', 'Wci', 'Wform', 'Wtone', "
     ]
    }
   ],
   "source": [
    "for e in sorted(list(error_tags)):\n",
    "    print(\"'\" + e + \"'\", end=\", \")"
   ]
  },
  {
   "cell_type": "code",
   "execution_count": 10,
   "id": "204867c6",
   "metadata": {},
   "outputs": [],
   "source": [
    "# Extract ground truth correct sentences for grammatically incorect sentences\n",
    "# Ex: S The opposite is also true .\n",
    "#     A 5 6|||Mec|||:|||REQUIRED|||-NONE-|||0\n",
    "\n",
    "dataset = {}\n",
    "annotators = 10\n",
    "for an in range(1, 11):\n",
    "    file = \"A\" + str(an) + \".m2\"\n",
    "    file = open(file_path_10gec + file)\n",
    "    current_S = \"\"\n",
    "    current_A = []\n",
    "    ex_ind = -1\n",
    "    for line in file.readlines():\n",
    "        if line[0] == \"S\":\n",
    "            ex_ind += 1\n",
    "            current_S = line[2:].strip()\n",
    "        elif line[0] == \"A\":\n",
    "            ans  = {}\n",
    "            cells = line.strip().split(\"|||\")\n",
    "            ans[\"indices\"] = [int(i) for i in cells[0].split()[1:]]  # A 5 6\n",
    "            ans[\"error_tag\"] = cells[1]\n",
    "            ans[\"correction\"] = cells[2]\n",
    "            current_A.append(ans)\n",
    "        elif line.strip() == \"\":  # empty line\n",
    "            annot = {\"S\" : current_S, \"A_list\" : current_A}\n",
    "            dataset[ex_ind] = [annot] if an==1 else dataset[ex_ind] + [annot]\n",
    "            dataset[ex_ind][an-1][\"G\"] = get_correct(dataset[ex_ind][an-1])\n",
    "            current_S = \"\"\n",
    "            current_A = []\n",
    "        \n",
    "data_size = len(dataset.keys())"
   ]
  },
  {
   "cell_type": "code",
   "execution_count": 118,
   "id": "2d19e78b",
   "metadata": {},
   "outputs": [],
   "source": [
    "# # dump the json in a file\n",
    "# import json\n",
    "# import os\n",
    "# with open('./10gec_jsons/data.json', 'w') as fh:\n",
    "#     json.dump(dataset, fh, indent=2)\n"
   ]
  },
  {
   "cell_type": "code",
   "execution_count": 119,
   "id": "bcf717d4",
   "metadata": {},
   "outputs": [],
   "source": [
    "# vocab = [\"\", \"I\", \"he\", \"she\", \"they\", \"am\", \"is\", \"are\", \"was\", \"were\", \"go\", \"going\", \"goes\", \"went\", \"market\", \n",
    "#          \"amusement-park\", \"to\", \"a\", \"an\", \"the\"]\n",
    "# vocab_size = len(vocab)\n",
    "# max_len = 10\n",
    "# Sample_sent = [\"I is going to market.\", \"She am go to market.\", \"They are go to a amusement-park.\", \n",
    "#                \"He going to an market.\", \"I were going.\"]"
   ]
  },
  {
   "cell_type": "code",
   "execution_count": 140,
   "id": "a833b139",
   "metadata": {},
   "outputs": [],
   "source": [
    "def get_reward(sent, data_id, dataset):\n",
    "    data = dataset[data_id]\n",
    "    max_reward = 0\n",
    "    for annotator in dataset[data_id]:\n",
    "        G = annotator[\"G\"]\n",
    "        max_reward = max(max_reward, get_ied(sent.split(), G.split()))\n",
    "    return max_reward             \n",
    "    "
   ]
  },
  {
   "cell_type": "code",
   "execution_count": 145,
   "id": "f3181bca",
   "metadata": {},
   "outputs": [
    {
     "data": {
      "text/plain": [
       "0.8888888888888888"
      ]
     },
     "execution_count": 145,
     "metadata": {},
     "output_type": "execute_result"
    }
   ],
   "source": [
    "s = 'People get certain diseases because of changes .'\n",
    "get_reward(s, 3, dataset)"
   ]
  },
  {
   "cell_type": "code",
   "execution_count": 12,
   "id": "cc54f274",
   "metadata": {},
   "outputs": [],
   "source": [
    "class OurCustomEnv(Env):\n",
    "\n",
    "    def __init__(self):\n",
    "\n",
    "        self.sent = \"\"\n",
    "        self.data_id = -1\n",
    "        #self.sales_function = sales_function     #calculating sales based on spends\n",
    "        self.high =np.array([vocab_size] * max_len, dtype=np.int32)\n",
    "        self.low =np.array([0] * max_len, dtype=np.int32)\n",
    "        \n",
    "        #we create an observation space with predefined range\n",
    "        self.observation_space = Box(low=self.low, high=self.high, dtype = np.float32)\n",
    "\n",
    "        #similar to observation, we define action space \n",
    "        self.action_space = [\"Replace\", \"Delete\", \"Add\"]\n",
    "        \n",
    "    \n",
    "    def step(self, action, arg1, arg2=0):\n",
    "        \n",
    "        if action == \"Delete\":\n",
    "            sent1 = self.sent.split()\n",
    "            self.sent = \" \".join(sent1[:arg1] + sent1[arg1+1:])\n",
    "        \n",
    "        elif action == \"Add\":\n",
    "            sent1 = self.sent.split()\n",
    "            self.sent = \" \".join(sent1[:arg1] + [Vocab[arg2]] + sent1[arg1:])\n",
    "            \n",
    "        elif action == \"Replace\":\n",
    "            sent1 = self.sent.split()\n",
    "            self.sent = \" \".join(sent1[:arg1] + [Vocab[arg2]] + sent1[arg1+1:])\n",
    "        \n",
    "#         reward = 0.0\n",
    "        reward = get_reward(self.sent, self.data_id, dataset)\n",
    "        done = True                            #Condition for completion of episode\n",
    "        info = {}        \n",
    "\n",
    "        return self.sent, reward, done, info \n",
    "\n",
    "    def reset(self):\n",
    "        self.data_id = random.randint(0, data_size)-1\n",
    "        print(self.data_id)\n",
    "        self.sent = dataset[self.data_id ][0][\"S\"]\n",
    "        return self.sent\n",
    "    \n",
    "def act(action, ind1, string=\"\"):\n",
    "    if action == \"Delete\":\n",
    "        return env.step(\"Delete\", ind1)\n",
    "    else:\n",
    "        return env.step(action, ind1, Vocab.index(string))    "
   ]
  },
  {
   "cell_type": "code",
   "execution_count": 13,
   "id": "f59011ee",
   "metadata": {},
   "outputs": [
    {
     "name": "stderr",
     "output_type": "stream",
     "text": [
      "/Users/shreya/opt/anaconda3/lib/python3.8/site-packages/gym/spaces/box.py:84: UserWarning: \u001b[33mWARN: Box bound precision lowered by casting to float32\u001b[0m\n",
      "  logger.warn(f\"Box bound precision lowered by casting to {self.dtype}\")\n"
     ]
    }
   ],
   "source": [
    "env = OurCustomEnv()"
   ]
  },
  {
   "cell_type": "code",
   "execution_count": 14,
   "id": "08d5139b",
   "metadata": {},
   "outputs": [
    {
     "name": "stdout",
     "output_type": "stream",
     "text": [
      "1247\n"
     ]
    }
   ],
   "source": [
    "state = env.reset()"
   ]
  },
  {
   "cell_type": "code",
   "execution_count": 15,
   "id": "f3a9d2cd",
   "metadata": {},
   "outputs": [
    {
     "name": "stdout",
     "output_type": "stream",
     "text": [
      "Secondly(0) ,(1) without(2) the(3) truly(4) communication(5) in(6) the(7) real(8) life(9) ,(10) people(11) lose(12) the(13) ability(14) to(15) see(16) the(17) truth(18) and(19) false(20) .(21) "
     ]
    }
   ],
   "source": [
    "print_sent(state)"
   ]
  },
  {
   "cell_type": "code",
   "execution_count": 16,
   "id": "28637500",
   "metadata": {},
   "outputs": [
    {
     "data": {
      "text/plain": [
       "'Secondly , without the truly communication in the real life , people lose the ability to see the truth and false .'"
      ]
     },
     "execution_count": 16,
     "metadata": {},
     "output_type": "execute_result"
    }
   ],
   "source": [
    "state"
   ]
  },
  {
   "cell_type": "code",
   "execution_count": 162,
   "id": "00f9fde2",
   "metadata": {},
   "outputs": [
    {
     "data": {
      "text/plain": [
       "('In conclusion , given the unsafe online environment , spend too much time on internet may be the potential negative factors of using online social networks .',\n",
       " 0.8571428571428572,\n",
       " True,\n",
       " {})"
      ]
     },
     "execution_count": 162,
     "metadata": {},
     "output_type": "execute_result"
    }
   ],
   "source": [
    "act1 = act(\"Replace\", 3, \"given\")\n",
    "act1"
   ]
  },
  {
   "cell_type": "code",
   "execution_count": 163,
   "id": "bb28c4e8",
   "metadata": {},
   "outputs": [
    {
     "data": {
      "text/plain": [
       "('In conclusion , given the unsafe online environment , spending too much time on internet may be the potential negative factors of using online social networks .',\n",
       " 0.8928571428571429,\n",
       " True,\n",
       " {})"
      ]
     },
     "execution_count": 163,
     "metadata": {},
     "output_type": "execute_result"
    }
   ],
   "source": [
    "act2 = act(\"Replace\", 9, \"spending\")\n",
    "act2"
   ]
  },
  {
   "cell_type": "code",
   "execution_count": 166,
   "id": "def870bd",
   "metadata": {},
   "outputs": [
    {
     "name": "stdout",
     "output_type": "stream",
     "text": [
      "In(0) conclusion(1) ,(2) given(3) the(4) unsafe(5) online(6) environment(7) ,(8) spending(9) too(10) much(11) time(12) on(13) internet(14) may(15) be(16) the(17) potential(18) negative(19) factors(20) of(21) using(22) online(23) social(24) networks(25) .(26) "
     ]
    }
   ],
   "source": [
    "print_sent(env.sent)"
   ]
  },
  {
   "cell_type": "code",
   "execution_count": 167,
   "id": "e7f92fab",
   "metadata": {},
   "outputs": [
    {
     "data": {
      "text/plain": [
       "('In conclusion , given the unsafe online environment , spending too much time on internet may be one the potential negative factors of using online social networks .',\n",
       " 0.8571428571428572,\n",
       " True,\n",
       " {})"
      ]
     },
     "execution_count": 167,
     "metadata": {},
     "output_type": "execute_result"
    }
   ],
   "source": [
    "act3 = act(\"Add\", 17, \"one\")\n",
    "act3"
   ]
  },
  {
   "cell_type": "code",
   "execution_count": 168,
   "id": "41fd4ff7",
   "metadata": {},
   "outputs": [
    {
     "data": {
      "text/plain": [
       "('In conclusion , given the unsafe online environment , spending too much time on internet may be one of the potential negative factors of using online social networks .',\n",
       " 0.8275862068965517,\n",
       " True,\n",
       " {})"
      ]
     },
     "execution_count": 168,
     "metadata": {},
     "output_type": "execute_result"
    }
   ],
   "source": [
    "act4 = act(\"Add\", 18, \"of\")\n",
    "act4"
   ]
  },
  {
   "cell_type": "code",
   "execution_count": 17,
   "id": "f716e4dd",
   "metadata": {},
   "outputs": [
    {
     "data": {
      "text/plain": [
       "[{'S': 'Secondly , without the truly communication in the real life , people lose the ability to see the truth and false .',\n",
       "  'A_list': [{'indices': [3, 4], 'error_tag': 'ArtOrDet', 'correction': ''},\n",
       "   {'indices': [4, 5], 'error_tag': 'Rloc-', 'correction': ''},\n",
       "   {'indices': [5, 6], 'error_tag': 'Vform', 'correction': 'communicating'},\n",
       "   {'indices': [6, 6], 'error_tag': 'Others', 'correction': 'with people'},\n",
       "   {'indices': [7, 8], 'error_tag': 'ArtOrDet', 'correction': ''},\n",
       "   {'indices': [16, 17], 'error_tag': 'Wci', 'correction': 'judge'},\n",
       "   {'indices': [17, 17],\n",
       "    'error_tag': 'Others',\n",
       "    'correction': 'if something is'},\n",
       "   {'indices': [19, 20], 'error_tag': 'Trans', 'correction': 'or'},\n",
       "   {'indices': [20, 21], 'error_tag': 'Wci', 'correction': 'a lie'}],\n",
       "  'G': 'Secondly , without   communicating with people in  real life , people lose the ability to judge if something is the truth or a lie .'},\n",
       " {'S': 'Secondly , without the truly communication in the real life , people lose the ability to see the truth and false .',\n",
       "  'A_list': [{'indices': [3, 4], 'error_tag': 'ArtOrDet', 'correction': ''},\n",
       "   {'indices': [4, 5], 'error_tag': 'Wci', 'correction': 'spoken'},\n",
       "   {'indices': [7, 8], 'error_tag': 'ArtOrDet', 'correction': ''},\n",
       "   {'indices': [18, 18],\n",
       "    'error_tag': 'Others',\n",
       "    'correction': 'difference between'},\n",
       "   {'indices': [18, 19], 'error_tag': 'Wform', 'correction': 'true'}],\n",
       "  'G': 'Secondly , without  spoken communication in  real life , people lose the ability to see the difference between true and false .'},\n",
       " {'S': 'Secondly , without the truly communication in the real life , people lose the ability to see the truth and false .',\n",
       "  'A_list': [{'indices': [3, 4], 'error_tag': 'ArtOrDet', 'correction': ''},\n",
       "   {'indices': [4, 5], 'error_tag': 'Wform', 'correction': 'true'},\n",
       "   {'indices': [7, 8], 'error_tag': 'ArtOrDet', 'correction': ''},\n",
       "   {'indices': [20, 21], 'error_tag': 'Wci', 'correction': 'lies'}],\n",
       "  'G': 'Secondly , without  true communication in  real life , people lose the ability to see the truth and lies .'},\n",
       " {'S': 'Secondly , without the truly communication in the real life , people lose the ability to see the truth and false .',\n",
       "  'A_list': [{'indices': [3, 5],\n",
       "    'error_tag': 'WOinc',\n",
       "    'correction': 'real life'},\n",
       "   {'indices': [6, 10], 'error_tag': 'WOinc', 'correction': ''},\n",
       "   {'indices': [17, 17], 'error_tag': 'Others', 'correction': 'what is'},\n",
       "   {'indices': [20, 20], 'error_tag': 'Others', 'correction': 'what is'}],\n",
       "  'G': 'Secondly , without real life communication in  people lose the ability to see the truth and false what is . what is'},\n",
       " {'S': 'Secondly , without the truly communication in the real life , people lose the ability to see the truth and false .',\n",
       "  'A_list': [{'indices': [3, 4], 'error_tag': 'ArtOrDet', 'correction': ''},\n",
       "   {'indices': [4, 5], 'error_tag': 'Rloc-', 'correction': ''},\n",
       "   {'indices': [5, 6], 'error_tag': 'Vform', 'correction': 'communicating'},\n",
       "   {'indices': [7, 8], 'error_tag': 'ArtOrDet', 'correction': ''},\n",
       "   {'indices': [12, 12], 'error_tag': 'Vm', 'correction': 'will'},\n",
       "   {'indices': [18, 19],\n",
       "    'error_tag': 'Others',\n",
       "    'correction': 'difference between true'}],\n",
       "  'G': 'Secondly , without   communicating in  real life , people will lose the ability to see the difference between true and false .'},\n",
       " {'S': 'Secondly , without the truly communication in the real life , people lose the ability to see the truth and false .',\n",
       "  'A_list': [{'indices': [3, 4], 'error_tag': 'ArtOrDet', 'correction': ''},\n",
       "   {'indices': [4, 5], 'error_tag': 'Wform', 'correction': 'true'},\n",
       "   {'indices': [7, 8], 'error_tag': 'ArtOrDet', 'correction': ''}],\n",
       "  'G': 'Secondly , without  true communication in  real life , people lose the ability to see the truth and false .'},\n",
       " {'S': 'Secondly , without the truly communication in the real life , people lose the ability to see the truth and false .',\n",
       "  'A_list': [{'indices': [3, 4], 'error_tag': 'ArtOrDet', 'correction': ''},\n",
       "   {'indices': [4, 5], 'error_tag': 'Wci', 'correction': 'real'},\n",
       "   {'indices': [6, 10], 'error_tag': 'Wci', 'correction': 'face to face'},\n",
       "   {'indices': [19, 21], 'error_tag': 'Rloc-', 'correction': ''}],\n",
       "  'G': 'Secondly , without  real communication face to face , people lose the ability to see the truth and false . '},\n",
       " {'S': 'Secondly , without the truly communication in the real life , people lose the ability to see the truth and false .',\n",
       "  'A_list': [{'indices': [3, 4], 'error_tag': 'ArtOrDet', 'correction': ''},\n",
       "   {'indices': [4, 5], 'error_tag': 'Wform', 'correction': 'true'},\n",
       "   {'indices': [7, 8], 'error_tag': 'ArtOrDet', 'correction': ''},\n",
       "   {'indices': [17, 18], 'error_tag': 'ArtOrDet', 'correction': ''},\n",
       "   {'indices': [19, 20], 'error_tag': 'Trans', 'correction': 'or'},\n",
       "   {'indices': [20, 21], 'error_tag': 'Wci', 'correction': 'lies'}],\n",
       "  'G': 'Secondly , without  true communication in  real life , people lose the ability to see  truth or lies .'},\n",
       " {'S': 'Secondly , without the truly communication in the real life , people lose the ability to see the truth and false .',\n",
       "  'A_list': [{'indices': [3, 4], 'error_tag': 'ArtOrDet', 'correction': ''},\n",
       "   {'indices': [4, 5], 'error_tag': 'Wform', 'correction': 'true'},\n",
       "   {'indices': [7, 8], 'error_tag': 'ArtOrDet', 'correction': ''},\n",
       "   {'indices': [19, 20], 'error_tag': 'Rloc-', 'correction': ''},\n",
       "   {'indices': [20, 21], 'error_tag': 'Rloc-', 'correction': ''}],\n",
       "  'G': 'Secondly , without  true communication in  real life , people lose the ability to see the truth   .'},\n",
       " {'S': 'Secondly , without the truly communication in the real life , people lose the ability to see the truth and false .',\n",
       "  'A_list': [{'indices': [3, 4], 'error_tag': 'ArtOrDet', 'correction': ''},\n",
       "   {'indices': [4, 5], 'error_tag': 'Wform', 'correction': 'true'},\n",
       "   {'indices': [7, 8], 'error_tag': 'ArtOrDet', 'correction': ''},\n",
       "   {'indices': [16, 17], 'error_tag': 'Wci', 'correction': 'differentiate'},\n",
       "   {'indices': [17, 18], 'error_tag': 'ArtOrDet', 'correction': ''},\n",
       "   {'indices': [18, 18], 'error_tag': 'Prep', 'correction': 'between'},\n",
       "   {'indices': [20, 21], 'error_tag': 'Wci', 'correction': 'lies'}],\n",
       "  'G': 'Secondly , without  true communication in  real life , people lose the ability to differentiate  between truth and lies .'}]"
      ]
     },
     "execution_count": 17,
     "metadata": {},
     "output_type": "execute_result"
    }
   ],
   "source": [
    "dataset[1247]"
   ]
  },
  {
   "cell_type": "code",
   "execution_count": null,
   "id": "17c45937",
   "metadata": {},
   "outputs": [],
   "source": []
  },
  {
   "cell_type": "code",
   "execution_count": null,
   "id": "25b7e2f5",
   "metadata": {},
   "outputs": [],
   "source": []
  }
 ],
 "metadata": {
  "interpreter": {
   "hash": "aee8b7b246df8f9039afb4144a1f6fd8d2ca17a180786b69acc140d282b71a49"
  },
  "kernelspec": {
   "display_name": "Python 3",
   "language": "python",
   "name": "python3"
  },
  "language_info": {
   "codemirror_mode": {
    "name": "ipython",
    "version": 3
   },
   "file_extension": ".py",
   "mimetype": "text/x-python",
   "name": "python",
   "nbconvert_exporter": "python",
   "pygments_lexer": "ipython3",
   "version": "3.8.8"
  }
 },
 "nbformat": 4,
 "nbformat_minor": 5
}
