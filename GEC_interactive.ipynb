{
 "cells": [
  {
   "cell_type": "markdown",
   "source": [
    "# 0. Install Dependencies"
   ],
   "metadata": {}
  },
  {
   "cell_type": "code",
   "execution_count": 16,
   "source": [
    "# !pip install tensorflow==2.3.0\n",
    "# !pip install gym\n",
    "# !pip install keras\n",
    "# !pip install keras-rl2"
   ],
   "outputs": [],
   "metadata": {}
  },
  {
   "cell_type": "markdown",
   "source": [
    "# 1. Test Toy Environment with OpenAI Gym"
   ],
   "metadata": {}
  },
  {
   "cell_type": "code",
   "execution_count": 1,
   "source": [
    "from gym import Env\n",
    "from gym.spaces import Discrete, Box\n",
    "import numpy as np\n",
    "import random\n",
    "from gym import spaces\n",
    "import os\n",
    "import copy\n",
    "import math"
   ],
   "outputs": [],
   "metadata": {}
  },
  {
   "cell_type": "code",
   "execution_count": 2,
   "source": [
    "\n",
    "def print_sent(sent):\n",
    "    table = []\n",
    "    sent = sent.split()\n",
    "    for i in range(len(sent)):\n",
    "        print(sent[i]+\"(\" + str(i) + \")\", end = \" \")\n",
    "        \n",
    "print_sent(\"In the old days , if one wants to tell some important news to another one , which lives far away , he needs to write letters and it wastes time .\")\n"
   ],
   "outputs": [
    {
     "output_type": "stream",
     "name": "stdout",
     "text": [
      "In(0) the(1) old(2) days(3) ,(4) if(5) one(6) wants(7) to(8) tell(9) some(10) important(11) news(12) to(13) another(14) one(15) ,(16) which(17) lives(18) far(19) away(20) ,(21) he(22) needs(23) to(24) write(25) letters(26) and(27) it(28) wastes(29) time(30) .(31) "
     ]
    }
   ],
   "metadata": {}
  },
  {
   "cell_type": "code",
   "execution_count": 30,
   "source": [
    "# inpute one annotator correction in the fporm of a dictionary like -\n",
    "# {'S': 'Genetic risk refers more to your chance of inheriting a disorder or disease .', \n",
    "# 'A_list': [{'indices': ['3', '4'], 'error_tag': 'Rloc-', 'correction': ''}]}\n",
    "\n",
    "data1 = {'S': 'In old days , if one wants to tell some important news to another one , which lives far away , he needs to write letters and it wastes time .',\n",
    "  'A_list': [{'indices': [1, 1], 'error_tag': 'ArtOrDet', 'correction': 'the'},\n",
    "   {'indices': [6, 7], 'error_tag': 'Vt', 'correction': 'wanted'},\n",
    "   {'indices': [8, 9], 'error_tag': 'Wci', 'correction': 'give'},\n",
    "   {'indices': [13, 15], 'error_tag': 'Wci', 'correction': 'someone'},\n",
    "   {'indices': [16, 17], 'error_tag': 'Ssub', 'correction': 'who'},\n",
    "   {'indices': [17, 18], 'error_tag': 'Vt', 'correction': 'lived'},\n",
    "   {'indices': [21, 23],\n",
    "    'error_tag': 'Others',\n",
    "    'correction': 'it was necessary'},\n",
    "   {'indices': [28, 29], 'error_tag': 'Wci', 'correction': 'took'}],\n",
    "  'G': 'In the old days , if one wanted to give some important news to someone , who lived far away , it was necessary to write letters and it wastes time took'}\n",
    "\n",
    "def get_correct(data):\n",
    "    sent = data[\"S\"].split()\n",
    "    shift = 0\n",
    "    for action in data[\"A_list\"]:\n",
    "        index = action[\"indices\"]\n",
    "        # print_sent(\" \".join(sent))\n",
    "        # print(shift)\n",
    "        # print(index[0]+shift, index[1]+shift)\n",
    "        # print(sent)\n",
    "        # print(sent[index[0]+shift], sent[index[1]+shift])\n",
    "        sent = sent[:index[0]+shift] + action[\"correction\"].split() + sent[index[1]+shift:]\n",
    "        shift += len(action[\"correction\"].split()) - (index[1] - index[0])\n",
    "        # if index[0] == index[1]: shift += 1  \n",
    "    return \" \".join(sent)"
   ],
   "outputs": [],
   "metadata": {}
  },
  {
   "cell_type": "code",
   "execution_count": 31,
   "source": [
    "# data1\n",
    "get_correct(data1)"
   ],
   "outputs": [
    {
     "output_type": "execute_result",
     "data": {
      "text/plain": [
       "'In the old days , if one wanted to give some important news to someone , who lived far away , it was necessary to write letters and it took time .'"
      ]
     },
     "metadata": {},
     "execution_count": 31
    }
   ],
   "metadata": {}
  },
  {
   "cell_type": "code",
   "execution_count": 32,
   "source": [
    "# string matching reward\n",
    "def get_ied(instseq1, instseq2):\n",
    "    m = len(instseq1)\n",
    "    n = len(instseq2)\n",
    "    if min(m,n) == 0: return 0\n",
    "    cost_matrix = {}\n",
    "    for i in range(m+1):\n",
    "        for j in range(n+1):\n",
    "            if min(i,j) == 0:\n",
    "                cost_matrix[str(i)+'_'+str(j)] = max(i,j)\n",
    "                continue\n",
    "            cost = 1\n",
    "            try:\n",
    "                if instseq1[i-1] == (instseq2[j-1]):\n",
    "                    cost = 0\n",
    "            except:\n",
    "                raise Exception('levenshtein calculation error')\n",
    "            a = cost_matrix[str(i-1)+'_'+str(j)]+1\n",
    "            b = cost_matrix[str(i)+'_'+str(j-1)]+1\n",
    "            c = cost_matrix[str(i-1)+'_'+str(j-1)]+cost\n",
    "            cost_matrix[str(i)+'_'+str(j)] = min(a, min(b,c))\n",
    "    ed = float(cost_matrix[str(m)+'_'+str(n)])\n",
    "    return 1 - (ed / max(m,n))"
   ],
   "outputs": [],
   "metadata": {}
  },
  {
   "cell_type": "code",
   "execution_count": 33,
   "source": [
    "\"\"\" datapoint 301\n",
    "[{'S': 'One of the diseases is sickle cell trait .',\n",
    "  'A_list': [{'indices': [2, 3],\n",
    "    'error_tag': 'ArtOrDet',\n",
    "    'correction': 'these'}],\n",
    "  'G': 'One of these diseases is sickle cell trait .'},\n",
    " {'S': 'One of the diseases is sickle cell trait .',\n",
    "  'A_list': [{'indices': [1, 2], 'error_tag': 'Prep', 'correction': ''},\n",
    "   {'indices': [2, 3], 'error_tag': 'ArtOrDet', 'correction': 'such'},\n",
    "   {'indices': [3, 4], 'error_tag': 'Nn', 'correction': 'disease'}],\n",
    "  'G': 'One  such disease is sickle cell trait .'}, ..........]\n",
    "\"\"\""
   ],
   "outputs": [
    {
     "output_type": "execute_result",
     "data": {
      "text/plain": [
       "\" datapoint 301\\n[{'S': 'One of the diseases is sickle cell trait .',\\n  'A_list': [{'indices': [2, 3],\\n    'error_tag': 'ArtOrDet',\\n    'correction': 'these'}],\\n  'G': 'One of these diseases is sickle cell trait .'},\\n {'S': 'One of the diseases is sickle cell trait .',\\n  'A_list': [{'indices': [1, 2], 'error_tag': 'Prep', 'correction': ''},\\n   {'indices': [2, 3], 'error_tag': 'ArtOrDet', 'correction': 'such'},\\n   {'indices': [3, 4], 'error_tag': 'Nn', 'correction': 'disease'}],\\n  'G': 'One  such disease is sickle cell trait .'}, ..........]\\n\""
      ]
     },
     "metadata": {},
     "execution_count": 33
    }
   ],
   "metadata": {}
  },
  {
   "cell_type": "code",
   "execution_count": 34,
   "source": [
    "error_tags = ['ArtOrDet', 'Mec', 'Nn', 'Npos', 'Others', 'Pform', 'Pref', 'Prep', 'Rloc-', 'SVA', 'Sfrag', 'Smod', \n",
    "              'Srun', 'Ssub', 'Trans', 'Um', 'V0', 'Vform', 'Vm', 'Vt', 'WOadv', 'WOinc', 'Wci', 'Wform', 'Wtone']\n",
    "feedback_template = {}\n",
    "standard_string = \"missing or incorrect\"\n",
    "feedback_template = {'ArtOrDet' : \"Article\", \n",
    "                  'Mec' : \"Punctuation / capitalization / spelling\",\n",
    "                  'Nn' : \"Noun number incorrect\",\n",
    "                  'Npos' : \"Possesive Noun\",\n",
    "                  'Pform' : \"Pronoun Form\",\n",
    "                  'Pref' : \"Pronoun reference\",\n",
    "                  'Prep' : \"Preposition\",\n",
    "                  'Rloc-' : \"Local Redundency\",\n",
    "                  'SVA' : \"Subject-verb-agreement\",\n",
    "                  'Sfrag' : \"Sentence fragmant\",\n",
    "                  'Smod' : \"Dangling Modifier\",  #modifier could be misinterpreted as being associated with a word other than the one intended\n",
    "                  'Srun' : \"Runons / comma splice\",  # fault is the use of a comma to join two independent clauses\n",
    "                  'Ssub' : \"Subordinate clause\", # \"I know that Bette is a dolphin\" - here \"that Bette is a dolphin\" occurs as the complement of the verb \"know\" \n",
    "                  'Trans' : \"Conjuctions\",\n",
    "                  'V0' : \"Missing verb\",\n",
    "                  'Vform' : \"Verb form\",\n",
    "                  'Vm' : \"Verb modal\",\n",
    "                  'Vt' : \"Verb tense\",\n",
    "                  'WOadv' : \"Adverb/adjective position\",\n",
    "                  'Wci' : \" Wrong collocation\", # it went fair well -> fairly\n",
    "                  'Wform' : \"Word form\"\n",
    "                    }\n",
    "\n",
    "\n",
    "# generating feedback with respect to annotator 1\n",
    "def generate_feedback(datapoint):\n",
    "    return feedback_template[datapoint[0][\"error_tag\"]]"
   ],
   "outputs": [],
   "metadata": {}
  },
  {
   "cell_type": "code",
   "execution_count": 35,
   "source": [
    "file_path_10gec = \"../Datasets/10gec_annotations/\"\n",
    "file = open(file_path_10gec + \"A1.m2\")\n",
    "\n",
    "Vocab = set()\n",
    "error_tags = set()\n",
    "max_len = 0\n",
    "\n",
    "for line in file.readlines():\n",
    "    if line[0] == \"S\" and len(line[2:].strip())>0:\n",
    "        Vocab.update(set(line[2:].strip().split()))\n",
    "        max_len = max(max_len, len(line[2:].strip().split()))\n",
    "    if line[0] == \"A\":\n",
    "        words = line.split(\"|||\")\n",
    "        Vocab.update(set(words[2].split()))\n",
    "        error_tags.update(set(words[1].split()))\n",
    "Vocab = list(Vocab) + [\"reflected\"]\n",
    "vocab_size = len(Vocab)"
   ],
   "outputs": [],
   "metadata": {}
  },
  {
   "cell_type": "code",
   "execution_count": 36,
   "source": [
    "for e in sorted(list(error_tags)):\n",
    "    print(\"'\" + e + \"'\", end=\", \")"
   ],
   "outputs": [
    {
     "output_type": "stream",
     "name": "stdout",
     "text": [
      "'ArtOrDet', 'Mec', 'Nn', 'Npos', 'Others', 'Pform', 'Pref', 'Prep', 'Rloc-', 'SVA', 'Sfrag', 'Smod', 'Srun', 'Ssub', 'Trans', 'Um', 'V0', 'Vform', 'Vm', 'Vt', 'WOadv', 'WOinc', 'Wci', 'Wform', 'Wtone', "
     ]
    }
   ],
   "metadata": {}
  },
  {
   "cell_type": "code",
   "execution_count": 37,
   "source": [
    "# Extract ground truth correct sentences for grammatically incorect sentences\n",
    "# Ex: S The opposite is also true .\n",
    "#     A 5 6|||Mec|||:|||REQUIRED|||-NONE-|||0\n",
    "\n",
    "dataset = {}\n",
    "annotators = 10\n",
    "for an in range(1, 11):\n",
    "    file = \"A\" + str(an) + \".m2\"\n",
    "    file = open(file_path_10gec + file)\n",
    "    current_S = \"\"\n",
    "    current_A = []\n",
    "    ex_ind = -1\n",
    "    for line in file.readlines():\n",
    "        if line[0] == \"S\":\n",
    "            ex_ind += 1\n",
    "            current_S = line[2:].strip()\n",
    "        elif line[0] == \"A\":\n",
    "            ans  = {}\n",
    "            cells = line.strip().split(\"|||\")\n",
    "            ans[\"indices\"] = [int(i) for i in cells[0].split()[1:]]  # A 5 6\n",
    "            ans[\"error_tag\"] = cells[1]\n",
    "            ans[\"correction\"] = cells[2]\n",
    "            current_A.append(ans)\n",
    "        elif line.strip() == \"\":  # empty line\n",
    "            annot = {\"S\" : current_S, \"A_list\" : current_A}\n",
    "            dataset[ex_ind] = [annot] if an==1 else dataset[ex_ind] + [annot]\n",
    "            dataset[ex_ind][an-1][\"G\"] = get_correct(dataset[ex_ind][an-1])\n",
    "            current_S = \"\"\n",
    "            current_A = []\n",
    "        \n",
    "data_size = len(dataset.keys())"
   ],
   "outputs": [],
   "metadata": {}
  },
  {
   "cell_type": "code",
   "execution_count": 38,
   "source": [
    "# # dump the json in a file\n",
    "# import json\n",
    "# import os\n",
    "# with open('./10gec_jsons/data.json', 'w') as fh:\n",
    "#     json.dump(dataset, fh, indent=2)\n"
   ],
   "outputs": [],
   "metadata": {}
  },
  {
   "cell_type": "code",
   "execution_count": 39,
   "source": [
    "# vocab = [\"\", \"I\", \"he\", \"she\", \"they\", \"am\", \"is\", \"are\", \"was\", \"were\", \"go\", \"going\", \"goes\", \"went\", \"market\", \n",
    "#          \"amusement-park\", \"to\", \"a\", \"an\", \"the\"]\n",
    "# vocab_size = len(vocab)\n",
    "# max_len = 10\n",
    "# Sample_sent = [\"I is going to market.\", \"She am go to market.\", \"They are go to a amusement-park.\", \n",
    "#                \"He going to an market.\", \"I were going.\"]"
   ],
   "outputs": [],
   "metadata": {}
  },
  {
   "cell_type": "code",
   "execution_count": 40,
   "source": [
    "def get_reward(sent, data_id, dataset):\n",
    "    data = dataset[data_id]\n",
    "    max_reward = 0\n",
    "    for annotator in dataset[data_id]:\n",
    "        G = annotator[\"G\"]\n",
    "        max_reward = max(max_reward, get_ied(sent.split(), G.split()))\n",
    "    return max_reward          \n",
    "    "
   ],
   "outputs": [],
   "metadata": {}
  },
  {
   "cell_type": "code",
   "execution_count": 41,
   "source": [
    "s = 'People get certain diseases because of changes .'\n",
    "get_reward(s, 3, dataset)"
   ],
   "outputs": [
    {
     "output_type": "execute_result",
     "data": {
      "text/plain": [
       "0.8888888888888888"
      ]
     },
     "metadata": {},
     "execution_count": 41
    }
   ],
   "metadata": {}
  },
  {
   "cell_type": "code",
   "execution_count": 42,
   "source": [
    "def in_buffer(action_buffer, p1, p2):\n",
    "    for act in action_buffer:\n",
    "        if act[1] == p1 and act[2] == p2:\n",
    "            return True\n",
    "    return False\n"
   ],
   "outputs": [],
   "metadata": {}
  },
  {
   "cell_type": "code",
   "execution_count": 113,
   "source": [
    "class OurCustomEnv(Env):\n",
    "\n",
    "    def __init__(self):\n",
    "\n",
    "        self.sent = \"\"\n",
    "        self.data_id = -1\n",
    "        self.data_state = \"\"\n",
    "        self.gamma = 0.95\n",
    "        self.annotator = 0\n",
    "        self.feedback = \"\"\n",
    "\n",
    "        self.reward = 0\n",
    "        self.action_buffer = []\n",
    "        self.sent_buff = []\n",
    "        self.annotator_buff = []\n",
    "        self.reward_buff = []\n",
    "        # self.high =np.array([vocab_size] * max_len, dtype=np.int32)\n",
    "        # self.low =np.array([0] * max_len, dtype=np.int32)\n",
    "        \n",
    "        # self.reward_unit = 10e-10\n",
    "        #we create an observation space with predefined range\n",
    "        self.observation_space = Box(low=np.array([vocab_size] * max_len, dtype=np.int32), high=np.array([0] * max_len, dtype=np.int32), dtype = np.float32)\n",
    "\n",
    "        #similar to observation, we define action space \n",
    "        self.action_space = [\"Replace\", \"Delete\", \"Add\", \"Undo\"]\n",
    "        \n",
    "    \n",
    "    def step(self, action, arg1 = [], string = \"\"):\n",
    "        sent1 = self.sent.split()\n",
    "        if action == \"Undo\":\n",
    "            done, info = True, {}\n",
    "            if len(self.sent_buff) < 2:\n",
    "                self.feedback = \"Error : There is no action to undo!!\"\n",
    "                self.action_buffer.append([action, \"\", \"\"])\n",
    "                print(\"Reward = \", self.reward)\n",
    "                print(self.feedback)\n",
    "                print(\"Next state: \", self.sent)\n",
    "                print_sent(self.sent)\n",
    "                return self.sent, self.reward, done, info \n",
    "\n",
    "            self.action_buffer.append([action, \"\", \"\"])\n",
    "            # restoring previous state\n",
    "            self.sent = self.sent_buff[-2]\n",
    "            del self.sent_buff[-1]\n",
    "            self.annotator =  self.annotator_buff[-2]\n",
    "            del self.annotator_buff[-1]\n",
    "            self.reward = self.reward_buff[-2]\n",
    "            del self.reward_buff[-1]\n",
    "            self.feedback = \"Reverted back to old state\"\n",
    "            print(\"Reward = \", self.reward)\n",
    "            print(self.feedback)\n",
    "            print(\"Next state: \", self.sent)\n",
    "            print_sent(self.sent)\n",
    "            return self.sent, self.reward, done, info \n",
    "\n",
    "        phrase1, phrase2 = \" \".join(self.sent.split()[arg1[0]:arg1[1]]), string\n",
    "        # print(\"act: \", phrase1, phrase2)\n",
    "\n",
    "        self.action_buffer.append([action, phrase1, phrase2])\n",
    "\n",
    "        if action == \"Delete\":\n",
    "            self.sent = \" \".join(sent1[:arg1[0]] + sent1[arg1[1]:])\n",
    "        \n",
    "        elif action == \"Add\":\n",
    "            self.sent = \" \".join(sent1[:arg1[0]] + [string] + sent1[arg1[1]:])\n",
    "            \n",
    "        elif action == \"Replace\":\n",
    "            self.sent = \" \".join(sent1[:arg1[0]] + [string] + sent1[arg1[1]:])\n",
    "        \n",
    "        # new_reward = get_reward(self.sent, self.data_id, dataset)\n",
    "        # if new_reward < self.reward:\n",
    "        max_reward = 0\n",
    "        for i in range(len(self.data_state)):\n",
    "            annot = self.data_state[i]\n",
    "            curr_reward = get_ied(self.sent.split(), annot[\"G\"].split())\n",
    "            if max_reward < curr_reward:\n",
    "                max_reward = curr_reward\n",
    "                self.annotator = i\n",
    "\n",
    "        action_seq = self.data_state[self.annotator][\"A_list\"]\n",
    "        self.feedback == \"\"\n",
    "        if max_reward == 1:\n",
    "            self.feedback = \"Feedback: The sentence is grammatically correct! \"\n",
    "        else:\n",
    "            if max_reward > self.reward:\n",
    "                self.feedback = \"Feedback: Yes, we are getting closer to the correct sentence! \"\n",
    "            else:\n",
    "                self.feedback = \"Feedback: You might want to recheck your last action! \"\n",
    "            for i in range(len(action_seq)):\n",
    "                act = action_seq[i]\n",
    "                p1 = \" \".join(self.data_state[self.annotator][\"S\"].split()[act[\"indices\"][0] : act[\"indices\"][1]])\n",
    "                p2 = self.data_state[self.annotator][\"A_list\"][i][\"correction\"]\n",
    "            \n",
    "                # # latest performed action matched \n",
    "                # if p1 == phrase1 and p2 == phrase2:\n",
    "\n",
    "                # found action not performed yet\n",
    "                if not in_buffer(self.action_buffer, p1, p2):\n",
    "                    err = self.data_state[self.annotator][\"A_list\"][i][\"error_tag\"]\n",
    "                    # TO DO: add level of feedback based on failed attempts\n",
    "                    if err in feedback_template:\n",
    "                        self.feedback += \"Hint: There is an error in the \" + feedback_template[err]\n",
    "                    else:\n",
    "                        self.feedback += \"Hint: Action doesn't seem to be correct.\"\n",
    "                    break\n",
    "            # all actions done but still incorrect\n",
    "            if \"Hint\" not in self.feedback:\n",
    "                self.feedback += \"Hint: You have done some unnecessary changes in the sentence. Undo the incorrect action(s).\"\n",
    "\n",
    "        # self.reward = math.pow(self.gamma, len(self.action_buffer)-1)*max_reward\n",
    "        self.reward = max_reward\n",
    "\n",
    "        print(\"Reward = \", self.reward)\n",
    "        print(self.feedback)\n",
    "        print(\"Next state: \", self.sent)\n",
    "        print_sent(self.sent)\n",
    "        done = True                            #Condition for completion of episode\n",
    "        info = {}        \n",
    "\n",
    "        self.sent_buff.append(self.sent)\n",
    "        self.annotator_buff.append(self.annotator)\n",
    "        self.reward_buff.append(self.reward)\n",
    "\n",
    "        return self.sent, self.reward, done, info \n",
    "\n",
    "    def reset(self):\n",
    "        #self.data_id = random.randint(0, data_size)-1\n",
    "        self.data_id = 1262\n",
    "        # 604\n",
    "        print(\"data id = \",self.data_id)\n",
    "        print(\"reward = \", self.reward)\n",
    "        self.sent = copy.deepcopy(dataset[self.data_id ][0][\"S\"])\n",
    "        self.data_state = copy.deepcopy(dataset[self.data_id ])\n",
    "        self.action_buffer = []\n",
    "        self.sent_buff = [self.sent]\n",
    "        self.annotator_buff = [0]\n",
    "        self.reward_buff = [0]\n",
    "        # self.reward_unit = 1/max(len(dataset[self.data_id ][0][\"A_list\"]), 1)\n",
    "        return self.sent\n",
    "    \n",
    "def act(action, ind1=[], string=\"\"):\n",
    "    # if action == \"Delete\":\n",
    "    #     return env.step(\"Delete\", ind1)\n",
    "    # else:\n",
    "    return env.step(action, ind1, string)    \n"
   ],
   "outputs": [],
   "metadata": {}
  },
  {
   "cell_type": "code",
   "execution_count": 99,
   "source": [
    "env = OurCustomEnv()"
   ],
   "outputs": [
    {
     "output_type": "stream",
     "name": "stderr",
     "text": [
      "/Library/Frameworks/Python.framework/Versions/3.9/lib/python3.9/site-packages/gym/spaces/box.py:84: UserWarning: \u001b[33mWARN: Box bound precision lowered by casting to float32\u001b[0m\n",
      "  logger.warn(f\"Box bound precision lowered by casting to {self.dtype}\")\n"
     ]
    }
   ],
   "metadata": {}
  },
  {
   "cell_type": "code",
   "execution_count": 100,
   "source": [
    "state = env.reset()\n",
    "state"
   ],
   "outputs": [
    {
     "output_type": "stream",
     "name": "stdout",
     "text": [
      "data id =  1262\n",
      "reward =  0\n"
     ]
    },
    {
     "output_type": "execute_result",
     "data": {
      "text/plain": [
       "'In old days , if one wants to tell some important news to another one , which lives far away , he needs to write letters and it wastes time .'"
      ]
     },
     "metadata": {},
     "execution_count": 100
    }
   ],
   "metadata": {}
  },
  {
   "cell_type": "code",
   "execution_count": 101,
   "source": [
    "print_sent(state)"
   ],
   "outputs": [
    {
     "output_type": "stream",
     "name": "stdout",
     "text": [
      "In(0) old(1) days(2) ,(3) if(4) one(5) wants(6) to(7) tell(8) some(9) important(10) news(11) to(12) another(13) one(14) ,(15) which(16) lives(17) far(18) away(19) ,(20) he(21) needs(22) to(23) write(24) letters(25) and(26) it(27) wastes(28) time(29) .(30) "
     ]
    }
   ],
   "metadata": {}
  },
  {
   "cell_type": "code",
   "execution_count": 106,
   "source": [
    "act1 = act(\"Add\", [1,1], \"the\")\n",
    "print(act1[1])"
   ],
   "outputs": [
    {
     "output_type": "stream",
     "name": "stdout",
     "text": [
      "Reward =  0.8125\n",
      "Feedback: Yes, we are getting closer to the correct sentence! Hint: There is an error in the Verb tense\n",
      "Next state:  In the old days , if one wants to tell some important news to another one , which lives far away , he needs to write letters and it wastes time .\n",
      "In(0) the(1) old(2) days(3) ,(4) if(5) one(6) wants(7) to(8) tell(9) some(10) important(11) news(12) to(13) another(14) one(15) ,(16) which(17) lives(18) far(19) away(20) ,(21) he(22) needs(23) to(24) write(25) letters(26) and(27) it(28) wastes(29) time(30) .(31) 0.8125\n"
     ]
    }
   ],
   "metadata": {}
  },
  {
   "cell_type": "code",
   "execution_count": 121,
   "source": [
    "# act1 = act(\"Undo\")\n",
    "act1 = act(\"Replace\", [14, 16], \"someone\")\n",
    "print(act1[1])\n",
    "# env.annotator"
   ],
   "outputs": [
    {
     "output_type": "execute_result",
     "data": {
      "text/plain": [
       "4"
      ]
     },
     "metadata": {},
     "execution_count": 121
    }
   ],
   "metadata": {}
  },
  {
   "cell_type": "code",
   "execution_count": 64,
   "source": [
    "act1 = act(\"Replace\", [7,8], \"wanted\")\n",
    "print(act1[1])"
   ],
   "outputs": [
    {
     "output_type": "stream",
     "name": "stdout",
     "text": [
      "Reward =  0.84375\n",
      "Feedback: Yes, we are getting closer to the correct sentence! Hint: There is an error in the Pronoun reference\n",
      "Next state:  In the old days , if one wanted to tell some important news to another one , which lives far away , he needs to write letters and it wastes time .\n",
      "In(0) the(1) old(2) days(3) ,(4) if(5) one(6) wanted(7) to(8) tell(9) some(10) important(11) news(12) to(13) another(14) one(15) ,(16) which(17) lives(18) far(19) away(20) ,(21) he(22) needs(23) to(24) write(25) letters(26) and(27) it(28) wastes(29) time(30) .(31) 0.84375\n"
     ]
    }
   ],
   "metadata": {}
  },
  {
   "cell_type": "code",
   "execution_count": 65,
   "source": [
    "act1 = act(\"Replace\", [14,16], \"someone\")\n",
    "print(act1[1])\n",
    "# 'G': 'In the old days , if one wanted to give some important news to someone , who lived far away , it was necessary to \n",
    "# write letters and it wastes time took'},"
   ],
   "outputs": [
    {
     "output_type": "stream",
     "name": "stdout",
     "text": [
      "Reward =  0.8387096774193549\n",
      "Feedback: You might want to recheck your last action! Hint: There is an error in the Local Redundency\n",
      "Next state:  In the old days , if one wanted to tell some important news to someone , which lives far away , he needs to write letters and it wastes time .\n",
      "In(0) the(1) old(2) days(3) ,(4) if(5) one(6) wanted(7) to(8) tell(9) some(10) important(11) news(12) to(13) someone(14) ,(15) which(16) lives(17) far(18) away(19) ,(20) he(21) needs(22) to(23) write(24) letters(25) and(26) it(27) wastes(28) time(29) .(30) 0.8387096774193549\n"
     ]
    }
   ],
   "metadata": {}
  },
  {
   "cell_type": "code",
   "execution_count": 66,
   "source": [
    "act1 = act(\"Replace\", [9,10], \"give\")\n",
    "print(act1[1])"
   ],
   "outputs": [
    {
     "output_type": "stream",
     "name": "stdout",
     "text": [
      "Reward =  0.8125\n",
      "Feedback: You might want to recheck your last action! Hint: There is an error in the Subordinate clause\n",
      "Next state:  In the old days , if one wanted to give some important news to someone , which lives far away , he needs to write letters and it wastes time .\n",
      "In(0) the(1) old(2) days(3) ,(4) if(5) one(6) wanted(7) to(8) give(9) some(10) important(11) news(12) to(13) someone(14) ,(15) which(16) lives(17) far(18) away(19) ,(20) he(21) needs(22) to(23) write(24) letters(25) and(26) it(27) wastes(28) time(29) .(30) 0.8125\n"
     ]
    }
   ],
   "metadata": {}
  },
  {
   "cell_type": "code",
   "execution_count": 67,
   "source": [
    "act1 = act(\"Replace\", [16,18], \"who lived\")\n",
    "print(act1[1])"
   ],
   "outputs": [
    {
     "output_type": "stream",
     "name": "stdout",
     "text": [
      "Reward =  0.875\n",
      "Feedback: Yes, we are getting closer to the correct sentence! Hint: There is an error in the Subordinate clause\n",
      "Next state:  In the old days , if one wanted to give some important news to someone , who lived far away , he needs to write letters and it wastes time .\n",
      "In(0) the(1) old(2) days(3) ,(4) if(5) one(6) wanted(7) to(8) give(9) some(10) important(11) news(12) to(13) someone(14) ,(15) who(16) lived(17) far(18) away(19) ,(20) he(21) needs(22) to(23) write(24) letters(25) and(26) it(27) wastes(28) time(29) .(30) 0.875\n"
     ]
    }
   ],
   "metadata": {}
  },
  {
   "cell_type": "code",
   "execution_count": 68,
   "source": [
    "act1 = act(\"Replace\", [21,23], \"it was necessary\")\n",
    "print(act1[1])"
   ],
   "outputs": [
    {
     "output_type": "stream",
     "name": "stdout",
     "text": [
      "Reward =  0.96875\n",
      "Feedback: Yes, we are getting closer to the correct sentence! Hint: There is an error in the Subordinate clause\n",
      "Next state:  In the old days , if one wanted to give some important news to someone , who lived far away , it was necessary to write letters and it wastes time .\n",
      "In(0) the(1) old(2) days(3) ,(4) if(5) one(6) wanted(7) to(8) give(9) some(10) important(11) news(12) to(13) someone(14) ,(15) who(16) lived(17) far(18) away(19) ,(20) it(21) was(22) necessary(23) to(24) write(25) letters(26) and(27) it(28) wastes(29) time(30) .(31) 0.96875\n"
     ]
    }
   ],
   "metadata": {}
  },
  {
   "cell_type": "code",
   "execution_count": 70,
   "source": [
    "act1 = act(\"Replace\", [29,30], \"took\")\n",
    "print(act1[1])"
   ],
   "outputs": [
    {
     "output_type": "stream",
     "name": "stdout",
     "text": [
      "Reward =  1.0\n",
      "Feedback: The sentence is grammatically correct! \n",
      "Next state:  In the old days , if one wanted to give some important news to someone , who lived far away , it was necessary to write letters and it took time .\n",
      "In(0) the(1) old(2) days(3) ,(4) if(5) one(6) wanted(7) to(8) give(9) some(10) important(11) news(12) to(13) someone(14) ,(15) who(16) lived(17) far(18) away(19) ,(20) it(21) was(22) necessary(23) to(24) write(25) letters(26) and(27) it(28) took(29) time(30) .(31) 1.0\n"
     ]
    }
   ],
   "metadata": {}
  },
  {
   "cell_type": "code",
   "execution_count": 73,
   "source": [
    "# env.annotator\n",
    "dataset[1262]"
   ],
   "outputs": [
    {
     "output_type": "execute_result",
     "data": {
      "text/plain": [
       "[{'S': 'In old days , if one wants to tell some important news to another one , which lives far away , he needs to write letters and it wastes time .',\n",
       "  'A_list': [{'indices': [1, 1], 'error_tag': 'ArtOrDet', 'correction': 'the'},\n",
       "   {'indices': [5, 6], 'error_tag': 'Pform', 'correction': 'someone'},\n",
       "   {'indices': [6, 7], 'error_tag': 'Vt', 'correction': 'wanted'},\n",
       "   {'indices': [8, 9], 'error_tag': 'Wci', 'correction': 'pass'},\n",
       "   {'indices': [9, 9], 'error_tag': 'Prep', 'correction': 'on'},\n",
       "   {'indices': [14, 15], 'error_tag': 'Wci', 'correction': 'person'},\n",
       "   {'indices': [16, 17], 'error_tag': 'Ssub', 'correction': 'who'},\n",
       "   {'indices': [17, 18], 'error_tag': 'Vt', 'correction': 'lived'},\n",
       "   {'indices': [21, 22], 'error_tag': 'Pform', 'correction': 'they'},\n",
       "   {'indices': [22, 23],\n",
       "    'error_tag': 'Vform',\n",
       "    'correction': 'would have needed'},\n",
       "   {'indices': [25, 26], 'error_tag': 'ArtOrDet', 'correction': 'a letter'},\n",
       "   {'indices': [27, 28], 'error_tag': 'Pform', 'correction': 'that'}],\n",
       "  'G': 'In the old days , if someone wanted to pass on some important news to another person , who lived far away , they would have needed to write a letter and that wastes time .'},\n",
       " {'S': 'In old days , if one wants to tell some important news to another one , which lives far away , he needs to write letters and it wastes time .',\n",
       "  'A_list': [{'indices': [1, 1], 'error_tag': 'ArtOrDet', 'correction': 'the'},\n",
       "   {'indices': [5, 6], 'error_tag': 'Pform', 'correction': 'someone'},\n",
       "   {'indices': [6, 7], 'error_tag': 'Vt', 'correction': 'wanted'},\n",
       "   {'indices': [13, 16], 'error_tag': 'Wci', 'correction': 'someone else'},\n",
       "   {'indices': [16, 17], 'error_tag': 'Pform', 'correction': 'who'},\n",
       "   {'indices': [17, 18], 'error_tag': 'Vt', 'correction': 'lived'},\n",
       "   {'indices': [22, 23], 'error_tag': 'Vt', 'correction': 'needed'},\n",
       "   {'indices': [26, 28], 'error_tag': 'Ssub', 'correction': 'which'}],\n",
       "  'G': 'In the old days , if someone wanted to tell some important news to someone else who lived far away , he needed to write letters which wastes time .'},\n",
       " {'S': 'In old days , if one wants to tell some important news to another one , which lives far away , he needs to write letters and it wastes time .',\n",
       "  'A_list': [{'indices': [1, 1], 'error_tag': 'ArtOrDet', 'correction': 'the'},\n",
       "   {'indices': [6, 7], 'error_tag': 'Vt', 'correction': 'wanted'},\n",
       "   {'indices': [13, 15], 'error_tag': 'Pref', 'correction': 'someone'},\n",
       "   {'indices': [15, 16], 'error_tag': 'Rloc-', 'correction': ''},\n",
       "   {'indices': [16, 17], 'error_tag': 'Pref', 'correction': 'who'},\n",
       "   {'indices': [21, 22], 'error_tag': 'Pref', 'correction': 'one'},\n",
       "   {'indices': [22, 23], 'error_tag': 'Vt', 'correction': 'needed'},\n",
       "   {'indices': [27, 28], 'error_tag': 'Pref', 'correction': 'that'}],\n",
       "  'G': 'In the old days , if one wanted to tell some important news to someone who lives far away , one needed to write letters and that wastes time .'},\n",
       " {'S': 'In old days , if one wants to tell some important news to another one , which lives far away , he needs to write letters and it wastes time .',\n",
       "  'A_list': [{'indices': [1, 1], 'error_tag': 'ArtOrDet', 'correction': 'the'},\n",
       "   {'indices': [5, 6], 'error_tag': 'Pform', 'correction': 'someone'},\n",
       "   {'indices': [6, 7], 'error_tag': 'Vt', 'correction': 'wanted'},\n",
       "   {'indices': [8, 9], 'error_tag': 'Wci', 'correction': 'announce'},\n",
       "   {'indices': [13, 15], 'error_tag': 'Wci', 'correction': 'someone else'},\n",
       "   {'indices': [15, 16], 'error_tag': 'Srun', 'correction': ''},\n",
       "   {'indices': [16, 17], 'error_tag': 'Trans', 'correction': 'who'},\n",
       "   {'indices': [22, 23], 'error_tag': 'Vt', 'correction': 'needed'},\n",
       "   {'indices': [28, 29], 'error_tag': 'Vt', 'correction': 'wasted'}],\n",
       "  'G': 'In the old days , if someone wanted to announce some important news to someone else who lives far away , he needed to write letters and it wasted time .'},\n",
       " {'S': 'In old days , if one wants to tell some important news to another one , which lives far away , he needs to write letters and it wastes time .',\n",
       "  'A_list': [{'indices': [1, 1], 'error_tag': 'ArtOrDet', 'correction': 'the'},\n",
       "   {'indices': [5, 6], 'error_tag': 'Wform', 'correction': 'someone'},\n",
       "   {'indices': [6, 7], 'error_tag': 'Vt', 'correction': 'wanted'},\n",
       "   {'indices': [13, 15], 'error_tag': 'Wci', 'correction': 'someone else'},\n",
       "   {'indices': [16, 17], 'error_tag': 'Pref', 'correction': 'who'},\n",
       "   {'indices': [17, 18], 'error_tag': 'Vt', 'correction': 'lived'},\n",
       "   {'indices': [22, 23], 'error_tag': 'Vt', 'correction': 'needed'},\n",
       "   {'indices': [28, 29], 'error_tag': 'Vm', 'correction': 'would waste'}],\n",
       "  'G': 'In the old days , if someone wanted to tell some important news to someone else , who lived far away , he needed to write letters and it would waste time .'},\n",
       " {'S': 'In old days , if one wants to tell some important news to another one , which lives far away , he needs to write letters and it wastes time .',\n",
       "  'A_list': [{'indices': [1, 1], 'error_tag': 'ArtOrDet', 'correction': 'the'},\n",
       "   {'indices': [5, 6], 'error_tag': 'Wci', 'correction': 'someone'},\n",
       "   {'indices': [6, 7], 'error_tag': 'Vt', 'correction': 'wanted'},\n",
       "   {'indices': [14, 15], 'error_tag': 'Wci', 'correction': 'person'},\n",
       "   {'indices': [16, 17], 'error_tag': 'Ssub', 'correction': 'who'},\n",
       "   {'indices': [17, 18], 'error_tag': 'Vt', 'correction': 'lived'},\n",
       "   {'indices': [21, 22], 'error_tag': 'Pref', 'correction': 'they'},\n",
       "   {'indices': [22, 23], 'error_tag': 'Vt', 'correction': 'needed'},\n",
       "   {'indices': [28, 29], 'error_tag': 'Vt', 'correction': 'wasted'}],\n",
       "  'G': 'In the old days , if someone wanted to tell some important news to another person , who lived far away , they needed to write letters and it wasted time .'},\n",
       " {'S': 'In old days , if one wants to tell some important news to another one , which lives far away , he needs to write letters and it wastes time .',\n",
       "  'A_list': [{'indices': [1, 1], 'error_tag': 'ArtOrDet', 'correction': 'the'},\n",
       "   {'indices': [6, 7], 'error_tag': 'Vt', 'correction': 'wanted'},\n",
       "   {'indices': [8, 9], 'error_tag': 'Wci', 'correction': 'give'},\n",
       "   {'indices': [13, 15], 'error_tag': 'Wci', 'correction': 'someone'},\n",
       "   {'indices': [16, 17], 'error_tag': 'Ssub', 'correction': 'who'},\n",
       "   {'indices': [17, 18], 'error_tag': 'Vt', 'correction': 'lived'},\n",
       "   {'indices': [21, 23],\n",
       "    'error_tag': 'Others',\n",
       "    'correction': 'it was necessary'},\n",
       "   {'indices': [28, 29], 'error_tag': 'Wci', 'correction': 'took'}],\n",
       "  'G': 'In the old days , if one wanted to give some important news to someone , who lived far away , it was necessary to write letters and it took time .'},\n",
       " {'S': 'In old days , if one wants to tell some important news to another one , which lives far away , he needs to write letters and it wastes time .',\n",
       "  'A_list': [{'indices': [1, 2], 'error_tag': 'Wci', 'correction': 'previous'},\n",
       "   {'indices': [2, 3], 'error_tag': 'Wci', 'correction': 'years'},\n",
       "   {'indices': [6, 7], 'error_tag': 'Vt', 'correction': 'wanted'},\n",
       "   {'indices': [14, 15], 'error_tag': 'Wci', 'correction': 'person'},\n",
       "   {'indices': [15, 16], 'error_tag': 'Mec', 'correction': ''},\n",
       "   {'indices': [16, 17], 'error_tag': 'Pform', 'correction': 'who'},\n",
       "   {'indices': [17, 18], 'error_tag': 'Vt', 'correction': 'lived'},\n",
       "   {'indices': [22, 23], 'error_tag': 'Vt', 'correction': 'needed'},\n",
       "   {'indices': [28, 29], 'error_tag': 'Vt', 'correction': 'wasted'}],\n",
       "  'G': 'In previous years , if one wanted to tell some important news to another person who lived far away , he needed to write letters and it wasted time .'},\n",
       " {'S': 'In old days , if one wants to tell some important news to another one , which lives far away , he needs to write letters and it wastes time .',\n",
       "  'A_list': [{'indices': [1, 1], 'error_tag': 'ArtOrDet', 'correction': 'the'},\n",
       "   {'indices': [6, 7], 'error_tag': 'Vt', 'correction': 'wanted'},\n",
       "   {'indices': [14, 15], 'error_tag': 'Pref', 'correction': 'person'},\n",
       "   {'indices': [16, 17], 'error_tag': 'Ssub', 'correction': 'who'},\n",
       "   {'indices': [21, 22], 'error_tag': 'Pref', 'correction': 'they'},\n",
       "   {'indices': [22, 23], 'error_tag': 'Vt', 'correction': 'needed'},\n",
       "   {'indices': [28, 29], 'error_tag': 'Vt', 'correction': 'wasted'}],\n",
       "  'G': 'In the old days , if one wanted to tell some important news to another person , who lives far away , they needed to write letters and it wasted time .'},\n",
       " {'S': 'In old days , if one wants to tell some important news to another one , which lives far away , he needs to write letters and it wastes time .',\n",
       "  'A_list': [{'indices': [1, 1], 'error_tag': 'ArtOrDet', 'correction': 'the'},\n",
       "   {'indices': [1, 2], 'error_tag': 'Wform', 'correction': 'olden'},\n",
       "   {'indices': [6, 7], 'error_tag': 'Vt', 'correction': 'wanted'},\n",
       "   {'indices': [14, 15], 'error_tag': 'Wci', 'correction': 'person'},\n",
       "   {'indices': [15, 16], 'error_tag': 'Mec', 'correction': ''},\n",
       "   {'indices': [16, 17], 'error_tag': 'Ssub', 'correction': 'who'},\n",
       "   {'indices': [17, 18], 'error_tag': 'Vt', 'correction': 'lived'},\n",
       "   {'indices': [21, 22], 'error_tag': 'Pref', 'correction': 'they'},\n",
       "   {'indices': [22, 23], 'error_tag': 'Vt', 'correction': 'would have needed'},\n",
       "   {'indices': [26, 26], 'error_tag': 'Mec', 'correction': ','},\n",
       "   {'indices': [26, 27], 'error_tag': 'Trans', 'correction': ''},\n",
       "   {'indices': [27, 28], 'error_tag': 'Pref', 'correction': ''},\n",
       "   {'indices': [28, 28], 'error_tag': 'Ssub', 'correction': 'which'}],\n",
       "  'G': 'In the olden days , if one wanted to tell some important news to another person who lived far away , they would have needed to write letters , which wastes time .'}]"
      ]
     },
     "metadata": {},
     "execution_count": 73
    }
   ],
   "metadata": {}
  },
  {
   "cell_type": "code",
   "execution_count": null,
   "source": [],
   "outputs": [],
   "metadata": {}
  }
 ],
 "metadata": {
  "interpreter": {
   "hash": "aee8b7b246df8f9039afb4144a1f6fd8d2ca17a180786b69acc140d282b71a49"
  },
  "kernelspec": {
   "name": "python3",
   "display_name": "Python 3.9.6 64-bit"
  },
  "language_info": {
   "codemirror_mode": {
    "name": "ipython",
    "version": 3
   },
   "file_extension": ".py",
   "mimetype": "text/x-python",
   "name": "python",
   "nbconvert_exporter": "python",
   "pygments_lexer": "ipython3",
   "version": "3.9.6"
  }
 },
 "nbformat": 4,
 "nbformat_minor": 5
}