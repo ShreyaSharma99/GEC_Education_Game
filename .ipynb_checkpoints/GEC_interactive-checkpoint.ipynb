{
 "cells": [
  {
   "cell_type": "markdown",
   "id": "54657cd7",
   "metadata": {},
   "source": [
    "# 0. Install Dependencies"
   ]
  },
  {
   "cell_type": "code",
   "execution_count": 1,
   "id": "4545b2cd",
   "metadata": {},
   "outputs": [
    {
     "name": "stdout",
     "output_type": "stream",
     "text": [
      "Requirement already satisfied: tensorflow==2.3.0 in /Users/shreya/opt/anaconda3/lib/python3.8/site-packages (2.3.0)\n",
      "Requirement already satisfied: tensorboard<3,>=2.3.0 in /Users/shreya/opt/anaconda3/lib/python3.8/site-packages (from tensorflow==2.3.0) (2.8.0)\n",
      "Requirement already satisfied: google-pasta>=0.1.8 in /Users/shreya/opt/anaconda3/lib/python3.8/site-packages (from tensorflow==2.3.0) (0.2.0)\n",
      "Requirement already satisfied: termcolor>=1.1.0 in /Users/shreya/opt/anaconda3/lib/python3.8/site-packages (from tensorflow==2.3.0) (1.1.0)\n",
      "Requirement already satisfied: scipy==1.4.1 in /Users/shreya/opt/anaconda3/lib/python3.8/site-packages (from tensorflow==2.3.0) (1.4.1)\n",
      "Requirement already satisfied: six>=1.12.0 in /Users/shreya/opt/anaconda3/lib/python3.8/site-packages (from tensorflow==2.3.0) (1.15.0)\n",
      "Requirement already satisfied: h5py<2.11.0,>=2.10.0 in /Users/shreya/opt/anaconda3/lib/python3.8/site-packages (from tensorflow==2.3.0) (2.10.0)\n",
      "Requirement already satisfied: astunparse==1.6.3 in /Users/shreya/opt/anaconda3/lib/python3.8/site-packages (from tensorflow==2.3.0) (1.6.3)\n",
      "Requirement already satisfied: wheel>=0.26 in /Users/shreya/opt/anaconda3/lib/python3.8/site-packages (from tensorflow==2.3.0) (0.36.2)\n",
      "Requirement already satisfied: wrapt>=1.11.1 in /Users/shreya/opt/anaconda3/lib/python3.8/site-packages (from tensorflow==2.3.0) (1.12.1)\n",
      "Requirement already satisfied: opt-einsum>=2.3.2 in /Users/shreya/opt/anaconda3/lib/python3.8/site-packages (from tensorflow==2.3.0) (3.3.0)\n",
      "Requirement already satisfied: grpcio>=1.8.6 in /Users/shreya/opt/anaconda3/lib/python3.8/site-packages (from tensorflow==2.3.0) (1.43.0)\n",
      "Requirement already satisfied: protobuf>=3.9.2 in /Users/shreya/opt/anaconda3/lib/python3.8/site-packages (from tensorflow==2.3.0) (3.19.3)\n",
      "Requirement already satisfied: gast==0.3.3 in /Users/shreya/opt/anaconda3/lib/python3.8/site-packages (from tensorflow==2.3.0) (0.3.3)\n",
      "Requirement already satisfied: keras-preprocessing<1.2,>=1.1.1 in /Users/shreya/opt/anaconda3/lib/python3.8/site-packages (from tensorflow==2.3.0) (1.1.2)\n",
      "Requirement already satisfied: tensorflow-estimator<2.4.0,>=2.3.0 in /Users/shreya/opt/anaconda3/lib/python3.8/site-packages (from tensorflow==2.3.0) (2.3.0)\n",
      "Requirement already satisfied: numpy<1.19.0,>=1.16.0 in /Users/shreya/opt/anaconda3/lib/python3.8/site-packages (from tensorflow==2.3.0) (1.18.5)\n",
      "Requirement already satisfied: absl-py>=0.7.0 in /Users/shreya/opt/anaconda3/lib/python3.8/site-packages (from tensorflow==2.3.0) (1.0.0)\n",
      "Requirement already satisfied: markdown>=2.6.8 in /Users/shreya/opt/anaconda3/lib/python3.8/site-packages (from tensorboard<3,>=2.3.0->tensorflow==2.3.0) (3.3.4)\n",
      "Requirement already satisfied: tensorboard-data-server<0.7.0,>=0.6.0 in /Users/shreya/opt/anaconda3/lib/python3.8/site-packages (from tensorboard<3,>=2.3.0->tensorflow==2.3.0) (0.6.1)\n",
      "Requirement already satisfied: werkzeug>=0.11.15 in /Users/shreya/opt/anaconda3/lib/python3.8/site-packages (from tensorboard<3,>=2.3.0->tensorflow==2.3.0) (1.0.1)\n",
      "Requirement already satisfied: setuptools>=41.0.0 in /Users/shreya/opt/anaconda3/lib/python3.8/site-packages (from tensorboard<3,>=2.3.0->tensorflow==2.3.0) (52.0.0.post20210125)\n",
      "Requirement already satisfied: requests<3,>=2.21.0 in /Users/shreya/opt/anaconda3/lib/python3.8/site-packages (from tensorboard<3,>=2.3.0->tensorflow==2.3.0) (2.25.1)\n",
      "Requirement already satisfied: google-auth-oauthlib<0.5,>=0.4.1 in /Users/shreya/opt/anaconda3/lib/python3.8/site-packages (from tensorboard<3,>=2.3.0->tensorflow==2.3.0) (0.4.6)\n",
      "Requirement already satisfied: google-auth<3,>=1.6.3 in /Users/shreya/opt/anaconda3/lib/python3.8/site-packages (from tensorboard<3,>=2.3.0->tensorflow==2.3.0) (2.5.0)\n",
      "Requirement already satisfied: tensorboard-plugin-wit>=1.6.0 in /Users/shreya/opt/anaconda3/lib/python3.8/site-packages (from tensorboard<3,>=2.3.0->tensorflow==2.3.0) (1.8.1)\n",
      "Requirement already satisfied: rsa<5,>=3.1.4 in /Users/shreya/opt/anaconda3/lib/python3.8/site-packages (from google-auth<3,>=1.6.3->tensorboard<3,>=2.3.0->tensorflow==2.3.0) (4.8)\n",
      "Requirement already satisfied: pyasn1-modules>=0.2.1 in /Users/shreya/opt/anaconda3/lib/python3.8/site-packages (from google-auth<3,>=1.6.3->tensorboard<3,>=2.3.0->tensorflow==2.3.0) (0.2.8)\n",
      "Requirement already satisfied: cachetools<6.0,>=2.0.0 in /Users/shreya/opt/anaconda3/lib/python3.8/site-packages (from google-auth<3,>=1.6.3->tensorboard<3,>=2.3.0->tensorflow==2.3.0) (5.0.0)\n",
      "Requirement already satisfied: requests-oauthlib>=0.7.0 in /Users/shreya/opt/anaconda3/lib/python3.8/site-packages (from google-auth-oauthlib<0.5,>=0.4.1->tensorboard<3,>=2.3.0->tensorflow==2.3.0) (1.3.0)\n",
      "Requirement already satisfied: idna<3,>=2.5 in /Users/shreya/opt/anaconda3/lib/python3.8/site-packages (from requests<3,>=2.21.0->tensorboard<3,>=2.3.0->tensorflow==2.3.0) (2.10)\n",
      "Requirement already satisfied: certifi>=2017.4.17 in /Users/shreya/opt/anaconda3/lib/python3.8/site-packages (from requests<3,>=2.21.0->tensorboard<3,>=2.3.0->tensorflow==2.3.0) (2020.12.5)\n",
      "Requirement already satisfied: chardet<5,>=3.0.2 in /Users/shreya/opt/anaconda3/lib/python3.8/site-packages (from requests<3,>=2.21.0->tensorboard<3,>=2.3.0->tensorflow==2.3.0) (4.0.0)\n",
      "Requirement already satisfied: urllib3<1.27,>=1.21.1 in /Users/shreya/opt/anaconda3/lib/python3.8/site-packages (from requests<3,>=2.21.0->tensorboard<3,>=2.3.0->tensorflow==2.3.0) (1.26.8)\n",
      "Requirement already satisfied: pyasn1<0.5.0,>=0.4.6 in /Users/shreya/opt/anaconda3/lib/python3.8/site-packages (from pyasn1-modules>=0.2.1->google-auth<3,>=1.6.3->tensorboard<3,>=2.3.0->tensorflow==2.3.0) (0.4.8)\n",
      "Requirement already satisfied: oauthlib>=3.0.0 in /Users/shreya/opt/anaconda3/lib/python3.8/site-packages (from requests-oauthlib>=0.7.0->google-auth-oauthlib<0.5,>=0.4.1->tensorboard<3,>=2.3.0->tensorflow==2.3.0) (3.1.1)\n",
      "Requirement already satisfied: gym in /Users/shreya/opt/anaconda3/lib/python3.8/site-packages (0.23.0)\n",
      "Requirement already satisfied: numpy>=1.18.0 in /Users/shreya/opt/anaconda3/lib/python3.8/site-packages (from gym) (1.18.5)\n",
      "Requirement already satisfied: importlib-metadata>=4.10.0 in /Users/shreya/opt/anaconda3/lib/python3.8/site-packages (from gym) (4.11.3)\n",
      "Requirement already satisfied: cloudpickle>=1.2.0 in /Users/shreya/opt/anaconda3/lib/python3.8/site-packages (from gym) (1.6.0)\n",
      "Requirement already satisfied: gym-notices>=0.0.4 in /Users/shreya/opt/anaconda3/lib/python3.8/site-packages (from gym) (0.0.6)\n",
      "Requirement already satisfied: zipp>=0.5 in /Users/shreya/opt/anaconda3/lib/python3.8/site-packages (from importlib-metadata>=4.10.0->gym) (3.4.1)\n",
      "Requirement already satisfied: keras in /Users/shreya/opt/anaconda3/lib/python3.8/site-packages (2.8.0)\n",
      "Requirement already satisfied: keras-rl2 in /Users/shreya/opt/anaconda3/lib/python3.8/site-packages (1.0.5)\n",
      "Requirement already satisfied: tensorflow in /Users/shreya/opt/anaconda3/lib/python3.8/site-packages (from keras-rl2) (2.3.0)\n",
      "Requirement already satisfied: tensorflow-estimator<2.4.0,>=2.3.0 in /Users/shreya/opt/anaconda3/lib/python3.8/site-packages (from tensorflow->keras-rl2) (2.3.0)\n",
      "Requirement already satisfied: wheel>=0.26 in /Users/shreya/opt/anaconda3/lib/python3.8/site-packages (from tensorflow->keras-rl2) (0.36.2)\n",
      "Requirement already satisfied: absl-py>=0.7.0 in /Users/shreya/opt/anaconda3/lib/python3.8/site-packages (from tensorflow->keras-rl2) (1.0.0)\n",
      "Requirement already satisfied: gast==0.3.3 in /Users/shreya/opt/anaconda3/lib/python3.8/site-packages (from tensorflow->keras-rl2) (0.3.3)\n",
      "Requirement already satisfied: protobuf>=3.9.2 in /Users/shreya/opt/anaconda3/lib/python3.8/site-packages (from tensorflow->keras-rl2) (3.19.3)\n",
      "Requirement already satisfied: tensorboard<3,>=2.3.0 in /Users/shreya/opt/anaconda3/lib/python3.8/site-packages (from tensorflow->keras-rl2) (2.8.0)\n",
      "Requirement already satisfied: scipy==1.4.1 in /Users/shreya/opt/anaconda3/lib/python3.8/site-packages (from tensorflow->keras-rl2) (1.4.1)\n",
      "Requirement already satisfied: termcolor>=1.1.0 in /Users/shreya/opt/anaconda3/lib/python3.8/site-packages (from tensorflow->keras-rl2) (1.1.0)\n",
      "Requirement already satisfied: wrapt>=1.11.1 in /Users/shreya/opt/anaconda3/lib/python3.8/site-packages (from tensorflow->keras-rl2) (1.12.1)\n",
      "Requirement already satisfied: h5py<2.11.0,>=2.10.0 in /Users/shreya/opt/anaconda3/lib/python3.8/site-packages (from tensorflow->keras-rl2) (2.10.0)\n",
      "Requirement already satisfied: google-pasta>=0.1.8 in /Users/shreya/opt/anaconda3/lib/python3.8/site-packages (from tensorflow->keras-rl2) (0.2.0)\n"
     ]
    },
    {
     "name": "stdout",
     "output_type": "stream",
     "text": [
      "Requirement already satisfied: numpy<1.19.0,>=1.16.0 in /Users/shreya/opt/anaconda3/lib/python3.8/site-packages (from tensorflow->keras-rl2) (1.18.5)\n",
      "Requirement already satisfied: six>=1.12.0 in /Users/shreya/opt/anaconda3/lib/python3.8/site-packages (from tensorflow->keras-rl2) (1.15.0)\n",
      "Requirement already satisfied: opt-einsum>=2.3.2 in /Users/shreya/opt/anaconda3/lib/python3.8/site-packages (from tensorflow->keras-rl2) (3.3.0)\n",
      "Requirement already satisfied: grpcio>=1.8.6 in /Users/shreya/opt/anaconda3/lib/python3.8/site-packages (from tensorflow->keras-rl2) (1.43.0)\n",
      "Requirement already satisfied: keras-preprocessing<1.2,>=1.1.1 in /Users/shreya/opt/anaconda3/lib/python3.8/site-packages (from tensorflow->keras-rl2) (1.1.2)\n",
      "Requirement already satisfied: astunparse==1.6.3 in /Users/shreya/opt/anaconda3/lib/python3.8/site-packages (from tensorflow->keras-rl2) (1.6.3)\n",
      "Requirement already satisfied: requests<3,>=2.21.0 in /Users/shreya/opt/anaconda3/lib/python3.8/site-packages (from tensorboard<3,>=2.3.0->tensorflow->keras-rl2) (2.25.1)\n",
      "Requirement already satisfied: google-auth-oauthlib<0.5,>=0.4.1 in /Users/shreya/opt/anaconda3/lib/python3.8/site-packages (from tensorboard<3,>=2.3.0->tensorflow->keras-rl2) (0.4.6)\n",
      "Requirement already satisfied: setuptools>=41.0.0 in /Users/shreya/opt/anaconda3/lib/python3.8/site-packages (from tensorboard<3,>=2.3.0->tensorflow->keras-rl2) (52.0.0.post20210125)\n",
      "Requirement already satisfied: werkzeug>=0.11.15 in /Users/shreya/opt/anaconda3/lib/python3.8/site-packages (from tensorboard<3,>=2.3.0->tensorflow->keras-rl2) (1.0.1)\n",
      "Requirement already satisfied: markdown>=2.6.8 in /Users/shreya/opt/anaconda3/lib/python3.8/site-packages (from tensorboard<3,>=2.3.0->tensorflow->keras-rl2) (3.3.4)\n",
      "Requirement already satisfied: tensorboard-plugin-wit>=1.6.0 in /Users/shreya/opt/anaconda3/lib/python3.8/site-packages (from tensorboard<3,>=2.3.0->tensorflow->keras-rl2) (1.8.1)\n",
      "Requirement already satisfied: google-auth<3,>=1.6.3 in /Users/shreya/opt/anaconda3/lib/python3.8/site-packages (from tensorboard<3,>=2.3.0->tensorflow->keras-rl2) (2.5.0)\n",
      "Requirement already satisfied: tensorboard-data-server<0.7.0,>=0.6.0 in /Users/shreya/opt/anaconda3/lib/python3.8/site-packages (from tensorboard<3,>=2.3.0->tensorflow->keras-rl2) (0.6.1)\n",
      "Requirement already satisfied: rsa<5,>=3.1.4 in /Users/shreya/opt/anaconda3/lib/python3.8/site-packages (from google-auth<3,>=1.6.3->tensorboard<3,>=2.3.0->tensorflow->keras-rl2) (4.8)\n",
      "Requirement already satisfied: cachetools<6.0,>=2.0.0 in /Users/shreya/opt/anaconda3/lib/python3.8/site-packages (from google-auth<3,>=1.6.3->tensorboard<3,>=2.3.0->tensorflow->keras-rl2) (5.0.0)\n",
      "Requirement already satisfied: pyasn1-modules>=0.2.1 in /Users/shreya/opt/anaconda3/lib/python3.8/site-packages (from google-auth<3,>=1.6.3->tensorboard<3,>=2.3.0->tensorflow->keras-rl2) (0.2.8)\n",
      "Requirement already satisfied: requests-oauthlib>=0.7.0 in /Users/shreya/opt/anaconda3/lib/python3.8/site-packages (from google-auth-oauthlib<0.5,>=0.4.1->tensorboard<3,>=2.3.0->tensorflow->keras-rl2) (1.3.0)\n",
      "Requirement already satisfied: idna<3,>=2.5 in /Users/shreya/opt/anaconda3/lib/python3.8/site-packages (from requests<3,>=2.21.0->tensorboard<3,>=2.3.0->tensorflow->keras-rl2) (2.10)\n",
      "Requirement already satisfied: urllib3<1.27,>=1.21.1 in /Users/shreya/opt/anaconda3/lib/python3.8/site-packages (from requests<3,>=2.21.0->tensorboard<3,>=2.3.0->tensorflow->keras-rl2) (1.26.8)\n",
      "Requirement already satisfied: certifi>=2017.4.17 in /Users/shreya/opt/anaconda3/lib/python3.8/site-packages (from requests<3,>=2.21.0->tensorboard<3,>=2.3.0->tensorflow->keras-rl2) (2020.12.5)\n",
      "Requirement already satisfied: chardet<5,>=3.0.2 in /Users/shreya/opt/anaconda3/lib/python3.8/site-packages (from requests<3,>=2.21.0->tensorboard<3,>=2.3.0->tensorflow->keras-rl2) (4.0.0)\n",
      "Requirement already satisfied: pyasn1<0.5.0,>=0.4.6 in /Users/shreya/opt/anaconda3/lib/python3.8/site-packages (from pyasn1-modules>=0.2.1->google-auth<3,>=1.6.3->tensorboard<3,>=2.3.0->tensorflow->keras-rl2) (0.4.8)\n",
      "Requirement already satisfied: oauthlib>=3.0.0 in /Users/shreya/opt/anaconda3/lib/python3.8/site-packages (from requests-oauthlib>=0.7.0->google-auth-oauthlib<0.5,>=0.4.1->tensorboard<3,>=2.3.0->tensorflow->keras-rl2) (3.1.1)\n"
     ]
    }
   ],
   "source": [
    "!pip install tensorflow==2.3.0\n",
    "!pip install gym\n",
    "!pip install keras\n",
    "!pip install keras-rl2"
   ]
  },
  {
   "cell_type": "markdown",
   "id": "54dae8cd",
   "metadata": {},
   "source": [
    "# 1. Test Toy Environment with OpenAI Gym"
   ]
  },
  {
   "cell_type": "code",
   "execution_count": 1,
   "id": "c7e474a2",
   "metadata": {},
   "outputs": [],
   "source": [
    "from gym import Env\n",
    "from gym.spaces import Discrete, Box\n",
    "import numpy as np\n",
    "import random\n",
    "from gym import spaces\n",
    "import os\n",
    "import copy"
   ]
  },
  {
   "cell_type": "code",
   "execution_count": 2,
   "id": "00c9149d",
   "metadata": {},
   "outputs": [],
   "source": [
    "# inpute one annotator correction in the fporm of a dictionary like -\n",
    "# {'S': 'Genetic risk refers more to your chance of inheriting a disorder or disease .', \n",
    "# 'A_list': [{'indices': ['3', '4'], 'error_tag': 'Rloc-', 'correction': ''}]}\n",
    "def get_correct(data):\n",
    "    sent = data[\"S\"].split()\n",
    "    shift = 0\n",
    "    for action in data[\"A_list\"]:\n",
    "        index = action[\"indices\"]\n",
    "        sent = sent[:index[0]+shift] + [action[\"correction\"]] + sent[index[1]+shift:]\n",
    "        if index[0] == index[1]: shift += 1  \n",
    "    return \" \".join(sent)"
   ]
  },
  {
   "cell_type": "code",
   "execution_count": 3,
   "id": "f8cba51e",
   "metadata": {},
   "outputs": [],
   "source": [
    "# string matching reward\n",
    "def get_ied(instseq1, instseq2):\n",
    "    m = len(instseq1)\n",
    "    n = len(instseq2)\n",
    "    if min(m,n) == 0: return 0\n",
    "    cost_matrix = {}\n",
    "    for i in range(m+1):\n",
    "        for j in range(n+1):\n",
    "            if min(i,j) == 0:\n",
    "                cost_matrix[str(i)+'_'+str(j)] = max(i,j)\n",
    "                continue\n",
    "            cost = 1\n",
    "            try:\n",
    "                if instseq1[i-1] == (instseq2[j-1]):\n",
    "                    cost = 0\n",
    "            except:\n",
    "                raise Exception('levenshtein calculation error')\n",
    "            a = cost_matrix[str(i-1)+'_'+str(j)]+1\n",
    "            b = cost_matrix[str(i)+'_'+str(j-1)]+1\n",
    "            c = cost_matrix[str(i-1)+'_'+str(j-1)]+cost\n",
    "            cost_matrix[str(i)+'_'+str(j)] = min(a, min(b,c))\n",
    "    ed = float(cost_matrix[str(m)+'_'+str(n)])\n",
    "    return 1 - (ed / max(m,n))\n",
    "\n",
    "def print_sent(sent):\n",
    "    table = []\n",
    "    sent = sent.split()\n",
    "    for i in range(len(sent)):\n",
    "        print(sent[i]+\"(\" + str(i) + \")\", end = \" \")"
   ]
  },
  {
   "cell_type": "code",
   "execution_count": 4,
   "id": "df0860ee",
   "metadata": {},
   "outputs": [
    {
     "data": {
      "text/plain": [
       "\" datapoint 301\\n[{'S': 'One of the diseases is sickle cell trait .',\\n  'A_list': [{'indices': [2, 3],\\n    'error_tag': 'ArtOrDet',\\n    'correction': 'these'}],\\n  'G': 'One of these diseases is sickle cell trait .'},\\n {'S': 'One of the diseases is sickle cell trait .',\\n  'A_list': [{'indices': [1, 2], 'error_tag': 'Prep', 'correction': ''},\\n   {'indices': [2, 3], 'error_tag': 'ArtOrDet', 'correction': 'such'},\\n   {'indices': [3, 4], 'error_tag': 'Nn', 'correction': 'disease'}],\\n  'G': 'One  such disease is sickle cell trait .'}, ..........]\\n\""
      ]
     },
     "execution_count": 4,
     "metadata": {},
     "output_type": "execute_result"
    }
   ],
   "source": [
    "\"\"\" datapoint 301\n",
    "[{'S': 'One of the diseases is sickle cell trait .',\n",
    "  'A_list': [{'indices': [2, 3],\n",
    "    'error_tag': 'ArtOrDet',\n",
    "    'correction': 'these'}],\n",
    "  'G': 'One of these diseases is sickle cell trait .'},\n",
    " {'S': 'One of the diseases is sickle cell trait .',\n",
    "  'A_list': [{'indices': [1, 2], 'error_tag': 'Prep', 'correction': ''},\n",
    "   {'indices': [2, 3], 'error_tag': 'ArtOrDet', 'correction': 'such'},\n",
    "   {'indices': [3, 4], 'error_tag': 'Nn', 'correction': 'disease'}],\n",
    "  'G': 'One  such disease is sickle cell trait .'}, ..........]\n",
    "\"\"\""
   ]
  },
  {
   "cell_type": "code",
   "execution_count": 5,
   "id": "153b1069",
   "metadata": {},
   "outputs": [],
   "source": [
    "error_tags = ['ArtOrDet', 'Mec', 'Nn', 'Npos', 'Others', 'Pform', 'Pref', 'Prep', 'Rloc-', 'SVA', 'Sfrag', 'Smod', \n",
    "              'Srun', 'Ssub', 'Trans', 'Um', 'V0', 'Vform', 'Vm', 'Vt', 'WOadv', 'WOinc', 'Wci', 'Wform', 'Wtone']\n",
    "feedback_template = {}\n",
    "standard_string = \"missing or incorrect\"\n",
    "feedback_template = {'ArtOrDet' : \"Article\", \n",
    "                  'Mec' : \"Punctuation / capitalization / spelling\",\n",
    "                  'Nn' : \"Noun number incorrect\",\n",
    "                  'Npos' : \"Possesive Noun\",\n",
    "                  'Pform' : \"Pronoun Form\",\n",
    "                  'Pref' : \"Pronoun reference\",\n",
    "                  'Prep' : \"Preposition\",\n",
    "                  'Rloc-' : \"Local Redundency\",\n",
    "                  'SVA' : \"Subject-verb-agreement\",\n",
    "                  'Sfrag' : \"Sentence fragmant\",\n",
    "                  'Smod' : \"Dangling Modifier\",  #modifier could be misinterpreted as being associated with a word other than the one intended\n",
    "                  'Srun' : \"Runons / comma splice\",  # fault is the use of a comma to join two independent clauses\n",
    "                  'Ssub' : \"Subordinate clause\", # \"I know that Bette is a dolphin\" - here \"that Bette is a dolphin\" occurs as the complement of the verb \"know\" \n",
    "                  'Trans' : \"Conjuctions\",\n",
    "                  'V0' : \"Missing verb\",\n",
    "                  'Vform' : \"Verb form\",\n",
    "                  'Vm' : \"Verb modal\",\n",
    "                  'Vt' : \"Verb tense\",\n",
    "                  'WOadv' : \"Adverb/adjective position\",\n",
    "                  'Wci' : \" Wrong collocation\", # it went fair well -> fairly\n",
    "                  'Wform' : \"Word form\"\n",
    "                    }\n",
    "\n",
    "\n",
    "# generating feedback with respect to annotator 1\n",
    "def generate_feedback(datapoint):\n",
    "    return feedback_template[datapoint[0][\"error_tag\"]]"
   ]
  },
  {
   "cell_type": "code",
   "execution_count": 6,
   "id": "9cb3d685",
   "metadata": {},
   "outputs": [],
   "source": [
    "file_path_10gec = \"../Datasets/10gec_annotations/\"\n",
    "file = open(file_path_10gec + \"A1.m2\")\n",
    "\n",
    "Sample_sent = []\n",
    "Vocab = set()\n",
    "error_tags = set()\n",
    "max_len = 0\n",
    "\n",
    "for line in file.readlines():\n",
    "    if line[0] == \"S\" and len(line[2:].strip())>0:\n",
    "        Sample_sent.append(line[2:].strip())\n",
    "        Vocab.update(set(line[2:].strip().split()))\n",
    "        max_len = max(max_len, len(line[2:].strip().split()))\n",
    "    if line[0] == \"A\":\n",
    "        words = line.split(\"|||\")\n",
    "        Vocab.update(set(words[2].split()))\n",
    "        error_tags.update(set(words[1].split()))\n",
    "Vocab = list(Vocab) + [\"reflected\"]\n",
    "vocab_size = len(Vocab)"
   ]
  },
  {
   "cell_type": "code",
   "execution_count": 7,
   "id": "0dda84c2",
   "metadata": {},
   "outputs": [
    {
     "name": "stdout",
     "output_type": "stream",
     "text": [
      "'ArtOrDet', 'Mec', 'Nn', 'Npos', 'Others', 'Pform', 'Pref', 'Prep', 'Rloc-', 'SVA', 'Sfrag', 'Smod', 'Srun', 'Ssub', 'Trans', 'Um', 'V0', 'Vform', 'Vm', 'Vt', 'WOadv', 'WOinc', 'Wci', 'Wform', 'Wtone', "
     ]
    }
   ],
   "source": [
    "for e in sorted(list(error_tags)):\n",
    "    print(\"'\" + e + \"'\", end=\", \")"
   ]
  },
  {
   "cell_type": "code",
   "execution_count": 17,
   "id": "204867c6",
   "metadata": {},
   "outputs": [],
   "source": [
    "# Extract ground truth correct sentences for grammatically incorect sentences\n",
    "# Ex: S The opposite is also true .\n",
    "#     A 5 6|||Mec|||:|||REQUIRED|||-NONE-|||0\n",
    "\n",
    "dataset = {}\n",
    "annotators = 10\n",
    "for an in range(1, 11):\n",
    "    file = \"A\" + str(an) + \".m2\"\n",
    "    file = open(file_path_10gec + file)\n",
    "    current_S = \"\"\n",
    "    current_A = []\n",
    "    ex_ind = -1\n",
    "    for line in file.readlines():\n",
    "        if line[0] == \"S\":\n",
    "            ex_ind += 1\n",
    "            current_S = line[2:].strip()\n",
    "        elif line[0] == \"A\":\n",
    "            ans  = {}\n",
    "            cells = line.strip().split(\"|||\")\n",
    "            ans[\"indices\"] = [int(i) for i in cells[0].split()[1:]]  # A 5 6\n",
    "            ans[\"error_tag\"] = cells[1]\n",
    "            ans[\"correction\"] = cells[2]\n",
    "            current_A.append(ans)\n",
    "        elif line.strip() == \"\":  # empty line\n",
    "            annot = {\"S\" : current_S, \"A_list\" : current_A}\n",
    "            dataset[ex_ind] = [annot] if an==1 else dataset[ex_ind] + [annot]\n",
    "            dataset[ex_ind][an-1][\"G\"] = get_correct(dataset[ex_ind][an-1])\n",
    "            current_S = \"\"\n",
    "            current_A = []\n",
    "        \n",
    "data_size = len(dataset.keys())"
   ]
  },
  {
   "cell_type": "code",
   "execution_count": 9,
   "id": "2d19e78b",
   "metadata": {},
   "outputs": [],
   "source": [
    "# # dump the json in a file\n",
    "# import json\n",
    "# import os\n",
    "# with open('./10gec_jsons/data.json', 'w') as fh:\n",
    "#     json.dump(dataset, fh, indent=2)\n"
   ]
  },
  {
   "cell_type": "code",
   "execution_count": 10,
   "id": "bcf717d4",
   "metadata": {},
   "outputs": [],
   "source": [
    "# vocab = [\"\", \"I\", \"he\", \"she\", \"they\", \"am\", \"is\", \"are\", \"was\", \"were\", \"go\", \"going\", \"goes\", \"went\", \"market\", \n",
    "#          \"amusement-park\", \"to\", \"a\", \"an\", \"the\"]\n",
    "# vocab_size = len(vocab)\n",
    "# max_len = 10\n",
    "# Sample_sent = [\"I is going to market.\", \"She am go to market.\", \"They are go to a amusement-park.\", \n",
    "#                \"He going to an market.\", \"I were going.\"]"
   ]
  },
  {
   "cell_type": "code",
   "execution_count": 11,
   "id": "a833b139",
   "metadata": {},
   "outputs": [],
   "source": [
    "def get_reward(sent, data_id, dataset):\n",
    "    data = dataset[data_id]\n",
    "    max_reward = 0\n",
    "    for annotator in dataset[data_id]:\n",
    "        G = annotator[\"G\"]\n",
    "        max_reward = max(max_reward, get_ied(sent.split(), G.split()))\n",
    "    return max_reward             \n",
    "    "
   ]
  },
  {
   "cell_type": "code",
   "execution_count": 12,
   "id": "f3181bca",
   "metadata": {},
   "outputs": [
    {
     "data": {
      "text/plain": [
       "0.8888888888888888"
      ]
     },
     "execution_count": 12,
     "metadata": {},
     "output_type": "execute_result"
    }
   ],
   "source": [
    "s = 'People get certain diseases because of changes .'\n",
    "get_reward(s, 3, dataset)"
   ]
  },
  {
   "cell_type": "code",
   "execution_count": 13,
   "id": "cc54f274",
   "metadata": {},
   "outputs": [],
   "source": [
    "class OurCustomEnv(Env):\n",
    "\n",
    "    def __init__(self):\n",
    "\n",
    "        self.sent = \"\"\n",
    "        self.data_id = -1\n",
    "        self.data_state = \"\"\n",
    "        \n",
    "        self.high =np.array([vocab_size] * max_len, dtype=np.int32)\n",
    "        self.low =np.array([0] * max_len, dtype=np.int32)\n",
    "        \n",
    "        self.reward = 0\n",
    "        self.reward_unit = 10e-10\n",
    "        #we create an observation space with predefined range\n",
    "        self.observation_space = Box(low=self.low, high=self.high, dtype = np.float32)\n",
    "\n",
    "        #similar to observation, we define action space \n",
    "        self.action_space = [\"Replace\", \"Delete\", \"Add\"]\n",
    "        \n",
    "    \n",
    "    def step(self, action, arg1, string = \"\"):\n",
    "        sent1 = self.sent.split()\n",
    "        phrase1, phrase2 = \" \".join(self.sent.split()[arg1[0]:arg1[1]]), string\n",
    "        print(\"act: \", phrase1, phrase2)\n",
    "        \n",
    "        if action == \"Delete\":\n",
    "            # self.sent = \" \".join(sent1[:arg1] + sent1[arg1+1:])\n",
    "            self.sent = \" \".join(sent1[:arg1[0]] + sent1[arg1[1]:])\n",
    "        \n",
    "        elif action == \"Add\":\n",
    "            # self.sent = \" \".join(sent1[:arg1] + [Vocab[arg2]] + sent1[arg1:])\n",
    "            self.sent = \" \".join(sent1[:arg1[0]] + [string] + sent1[arg1[1]:])\n",
    "            \n",
    "        elif action == \"Replace\":\n",
    "            # self.sent = \" \".join(sent1[:arg1] + [Vocab[arg2]] + sent1[arg1+1:])\n",
    "            self.sent = \" \".join(sent1[:arg1[0]] + [string] + sent1[arg1[1]:])\n",
    "        \n",
    "        new_reward = get_reward(self.sent, self.data_id, dataset)\n",
    "        # if new_reward < self.reward:\n",
    "        action_seq = self.data_state[\"A_list\"]\n",
    "        add_reward = False\n",
    "        for i in range(len(action_seq)):\n",
    "            act = action_seq[i]\n",
    "            p1 = \" \".join(self.data_state[\"S\"].split()[act[\"indices\"][0] : act[\"indices\"][1]])\n",
    "            p2 = self.data_state[\"A_list\"][i][\"correction\"]\n",
    "            print(i, p1, p2)\n",
    "            if p1 == phrase1 and p2 == phrase2:\n",
    "                add_reward = True\n",
    "                del self.data_state[\"A_list\"][i]\n",
    "                break\n",
    "            \n",
    "        if add_reward:\n",
    "            self.reward += self.reward_unit\n",
    "        elif len(self.data_state[\"A_list\"]) == 0:\n",
    "            print(\"Feedback: The sentence was grammatically correct already! Undo changes\")\n",
    "        else:\n",
    "            err = self.data_state[\"A_list\"][0][\"error_tag\"]\n",
    "            if err in feedback_template:\n",
    "                print(\"Feedback: Action doesn't match. There is an error in \", feedback_template[err])\n",
    "            else:\n",
    "                print(\"Feedback: Action doesn't match.\")\n",
    "            self.reward = max(0, self.reward - (self.reward_unit/2))\n",
    "        \n",
    "            \n",
    "        done = True                            #Condition for completion of episode\n",
    "        info = {}        \n",
    "\n",
    "        return self.sent, self.reward, done, info \n",
    "\n",
    "    def reset(self):\n",
    "        #self.data_id = random.randint(0, data_size)-1\n",
    "        self.data_id = 1262\n",
    "        # 604\n",
    "        print(\"data id = \",self.data_id)\n",
    "        print(\"reward = \", self.reward)\n",
    "        self.sent = copy.deepcopy(dataset[self.data_id ][0][\"S\"])\n",
    "        self.data_state = copy.deepcopy(dataset[self.data_id ])\n",
    "        self.reward_unit = 1/max(len(dataset[self.data_id ][0][\"A_list\"]), 1)\n",
    "        return self.sent\n",
    "    \n",
    "def act(action, ind1, string=\"\"):\n",
    "    if action == \"Delete\":\n",
    "        return env.step(\"Delete\", ind1)\n",
    "    else:\n",
    "        return env.step(action, ind1, string)    \n",
    "    \n",
    "#         elif action == \"Add_conjuction\":\n",
    "#             sent1 = self.sent.split()\n",
    "#             self.sent = \" \".join(sent1[:arg1] + [Vocab[arg2]] + sent1[arg1+1:])\n",
    "            \n",
    "#         elif action == \"Replace_conjuction\":\n",
    "#             sent1 = self.sent.split()\n",
    "#             self.sent = \" \".join(sent1[:arg1] + [Vocab[arg2]] + sent1[arg1+1:])\n",
    "            \n",
    "#         elif action == \"Replace_preposition\":\n",
    "#             sent1 = self.sent.split()\n",
    "#             self.sent = \" \".join(sent1[:arg1] + [Vocab[arg2]] + sent1[arg1+1:])\n",
    "#         reward = 0.0"
   ]
  },
  {
   "cell_type": "code",
   "execution_count": 14,
   "id": "f59011ee",
   "metadata": {},
   "outputs": [
    {
     "name": "stderr",
     "output_type": "stream",
     "text": [
      "/Users/shreya/opt/anaconda3/lib/python3.8/site-packages/gym/spaces/box.py:84: UserWarning: \u001b[33mWARN: Box bound precision lowered by casting to float32\u001b[0m\n",
      "  logger.warn(f\"Box bound precision lowered by casting to {self.dtype}\")\n"
     ]
    }
   ],
   "source": [
    "env = OurCustomEnv()"
   ]
  },
  {
   "cell_type": "code",
   "execution_count": 15,
   "id": "08d5139b",
   "metadata": {},
   "outputs": [
    {
     "name": "stdout",
     "output_type": "stream",
     "text": [
      "data id =  1262\n",
      "reward =  0\n"
     ]
    },
    {
     "data": {
      "text/plain": [
       "'In old days , if one wants to tell some important news to another one , which lives far away , he needs to write letters and it wastes time .'"
      ]
     },
     "execution_count": 15,
     "metadata": {},
     "output_type": "execute_result"
    }
   ],
   "source": [
    "state = env.reset()\n",
    "state"
   ]
  },
  {
   "cell_type": "code",
   "execution_count": 16,
   "id": "f3a9d2cd",
   "metadata": {},
   "outputs": [
    {
     "name": "stdout",
     "output_type": "stream",
     "text": [
      "In(0) old(1) days(2) ,(3) if(4) one(5) wants(6) to(7) tell(8) some(9) important(10) news(11) to(12) another(13) one(14) ,(15) which(16) lives(17) far(18) away(19) ,(20) he(21) needs(22) to(23) write(24) letters(25) and(26) it(27) wastes(28) time(29) .(30) "
     ]
    }
   ],
   "source": [
    "print_sent(state)"
   ]
  },
  {
   "cell_type": "code",
   "execution_count": 67,
   "id": "00f9fde2",
   "metadata": {},
   "outputs": [
    {
     "name": "stdout",
     "output_type": "stream",
     "text": [
      "act:  one someone\n",
      "0  the\n",
      "1 one someone\n",
      "0.08333333333333333\n",
      "In(0) old(1) days(2) ,(3) if(4) someone(5) wants(6) to(7) tell(8) some(9) important(10) news(11) to(12) another(13) one(14) ,(15) which(16) lives(17) far(18) away(19) ,(20) he(21) needs(22) to(23) write(24) letters(25) and(26) it(27) wastes(28) time(29) .(30) "
     ]
    }
   ],
   "source": [
    "act1 = act(\"Replace\", [5,6], \"someone\")\n",
    "print(act1[1])\n",
    "print_sent(act1[0])"
   ]
  },
  {
   "cell_type": "code",
   "execution_count": 68,
   "id": "bb28c4e8",
   "metadata": {},
   "outputs": [
    {
     "name": "stdout",
     "output_type": "stream",
     "text": [
      "act:  In \n",
      "0  the\n",
      "1 wants wanted\n",
      "2 tell pass\n",
      "3  on\n",
      "4 one person\n",
      "5 which who\n",
      "6 lives lived\n",
      "7 he they\n",
      "8 needs would have needed\n",
      "9 letters a letter\n",
      "10 it that\n",
      "Feedback: Action doesn't match. There is an error in  Article\n",
      "0.041666666666666664\n",
      "old(0) days(1) ,(2) if(3) someone(4) wants(5) to(6) tell(7) some(8) important(9) news(10) to(11) another(12) one(13) ,(14) which(15) lives(16) far(17) away(18) ,(19) he(20) needs(21) to(22) write(23) letters(24) and(25) it(26) wastes(27) time(28) .(29) "
     ]
    }
   ],
   "source": [
    "act2 = act(\"Delete\", [0,1], \"\")\n",
    "print(act2[1])\n",
    "print_sent(act2[0])"
   ]
  },
  {
   "cell_type": "code",
   "execution_count": 69,
   "id": "def870bd",
   "metadata": {},
   "outputs": [
    {
     "name": "stdout",
     "output_type": "stream",
     "text": [
      "act:  old In\n",
      "0  the\n",
      "1 wants wanted\n",
      "2 tell pass\n",
      "3  on\n",
      "4 one person\n",
      "5 which who\n",
      "6 lives lived\n",
      "7 he they\n",
      "8 needs would have needed\n",
      "9 letters a letter\n",
      "10 it that\n",
      "Feedback: Action doesn't match. There is an error in  Article\n",
      "0\n",
      "In(0) days(1) ,(2) if(3) someone(4) wants(5) to(6) tell(7) some(8) important(9) news(10) to(11) another(12) one(13) ,(14) which(15) lives(16) far(17) away(18) ,(19) he(20) needs(21) to(22) write(23) letters(24) and(25) it(26) wastes(27) time(28) .(29) "
     ]
    }
   ],
   "source": [
    "act2 = act(\"Add\", [0,1], \"In\")\n",
    "print(act2[1])\n",
    "print_sent(act2[0])"
   ]
  },
  {
   "cell_type": "code",
   "execution_count": 23,
   "id": "e7f92fab",
   "metadata": {},
   "outputs": [],
   "source": [
    "# act3 = act(\"Add\", 17, \"one\")\n",
    "# act3"
   ]
  },
  {
   "cell_type": "code",
   "execution_count": null,
   "id": "41fd4ff7",
   "metadata": {},
   "outputs": [],
   "source": [
    "act4 = act(\"Add\", 18, \"of\")\n",
    "act4"
   ]
  },
  {
   "cell_type": "code",
   "execution_count": 70,
   "id": "f716e4dd",
   "metadata": {},
   "outputs": [
    {
     "data": {
      "text/plain": [
       "[{'S': \"We know each others ' status , changements and so on through the social media .\",\n",
       "  'A_list': [{'indices': [7, 8],\n",
       "    'error_tag': 'Wform',\n",
       "    'correction': 'changes'},\n",
       "   {'indices': [12, 13], 'error_tag': 'ArtOrDet', 'correction': ''}],\n",
       "  'G': \"We know each others ' status , changes and so on through  social media .\"},\n",
       " {'S': \"We know each others ' status , changements and so on through the social media .\",\n",
       "  'A_list': [{'indices': [3, 5],\n",
       "    'error_tag': 'Npos',\n",
       "    'correction': \"other 's\"},\n",
       "   {'indices': [5, 6], 'error_tag': 'Nn', 'correction': 'statuses'},\n",
       "   {'indices': [7, 8], 'error_tag': 'Wform', 'correction': 'changes'},\n",
       "   {'indices': [12, 13], 'error_tag': 'ArtOrDet', 'correction': ''}],\n",
       "  'G': \"We know each other 's status statuses changements changes so on through the  media .\"},\n",
       " {'S': \"We know each others ' status , changements and so on through the social media .\",\n",
       "  'A_list': [{'indices': [7, 8], 'error_tag': 'Wci', 'correction': 'changes'},\n",
       "   {'indices': [12, 13], 'error_tag': 'ArtOrDet', 'correction': ''}],\n",
       "  'G': \"We know each others ' status , changes and so on through  social media .\"},\n",
       " {'S': \"We know each others ' status , changements and so on through the social media .\",\n",
       "  'A_list': [{'indices': [7, 8],\n",
       "    'error_tag': 'Wform',\n",
       "    'correction': 'changes'}],\n",
       "  'G': \"We know each others ' status , changes and so on through the social media .\"},\n",
       " {'S': \"We know each others ' status , changements and so on through the social media .\",\n",
       "  'A_list': [{'indices': [5, 6], 'error_tag': 'Nn', 'correction': 'statuses'},\n",
       "   {'indices': [7, 8], 'error_tag': 'Wform', 'correction': 'changes ,'},\n",
       "   {'indices': [12, 13], 'error_tag': 'ArtOrDet', 'correction': ''}],\n",
       "  'G': \"We know each others ' statuses , changes , and so on through  social media .\"},\n",
       " {'S': \"We know each others ' status , changements and so on through the social media .\",\n",
       "  'A_list': [{'indices': [7, 8],\n",
       "    'error_tag': 'Wci',\n",
       "    'correction': 'developments'},\n",
       "   {'indices': [12, 13], 'error_tag': 'ArtOrDet', 'correction': ''}],\n",
       "  'G': \"We know each others ' status , developments and so on through  social media .\"},\n",
       " {'S': \"We know each others ' status , changements and so on through the social media .\",\n",
       "  'A_list': [{'indices': [7, 8],\n",
       "    'error_tag': 'Wform',\n",
       "    'correction': 'changes'}],\n",
       "  'G': \"We know each others ' status , changes and so on through the social media .\"},\n",
       " {'S': \"We know each others ' status , changements and so on through the social media .\",\n",
       "  'A_list': [{'indices': [5, 6], 'error_tag': 'Nn', 'correction': 'statuses'},\n",
       "   {'indices': [6, 8], 'error_tag': 'Mec', 'correction': 'and changes'},\n",
       "   {'indices': [8, 11], 'error_tag': 'Rloc-', 'correction': ''},\n",
       "   {'indices': [12, 13], 'error_tag': 'ArtOrDet', 'correction': ''}],\n",
       "  'G': \"We know each others ' statuses and changes and  the social media \"},\n",
       " {'S': \"We know each others ' status , changements and so on through the social media .\",\n",
       "  'A_list': [{'indices': [5, 6], 'error_tag': 'Nn', 'correction': 'statuses'},\n",
       "   {'indices': [7, 8], 'error_tag': 'Mec', 'correction': 'changes'},\n",
       "   {'indices': [12, 13], 'error_tag': 'ArtOrDet', 'correction': ''}],\n",
       "  'G': \"We know each others ' statuses , changes and so on through  social media .\"},\n",
       " {'S': \"We know each others ' status , changements and so on through the social media .\",\n",
       "  'A_list': [{'indices': [3, 5], 'error_tag': 'Mec', 'correction': \"other 's\"},\n",
       "   {'indices': [7, 8], 'error_tag': 'Mec', 'correction': 'changes'},\n",
       "   {'indices': [12, 13], 'error_tag': 'ArtOrDet', 'correction': ''}],\n",
       "  'G': \"We know each other 's status , changements changes so on through the  media .\"}]"
      ]
     },
     "execution_count": 70,
     "metadata": {},
     "output_type": "execute_result"
    }
   ],
   "source": [
    "dataset[604]"
   ]
  },
  {
   "cell_type": "code",
   "execution_count": null,
   "id": "17c45937",
   "metadata": {},
   "outputs": [],
   "source": []
  },
  {
   "cell_type": "code",
   "execution_count": null,
   "id": "25b7e2f5",
   "metadata": {},
   "outputs": [],
   "source": []
  }
 ],
 "metadata": {
  "interpreter": {
   "hash": "aee8b7b246df8f9039afb4144a1f6fd8d2ca17a180786b69acc140d282b71a49"
  },
  "kernelspec": {
   "display_name": "Python 3",
   "language": "python",
   "name": "python3"
  },
  "language_info": {
   "codemirror_mode": {
    "name": "ipython",
    "version": 3
   },
   "file_extension": ".py",
   "mimetype": "text/x-python",
   "name": "python",
   "nbconvert_exporter": "python",
   "pygments_lexer": "ipython3",
   "version": "3.8.8"
  }
 },
 "nbformat": 4,
 "nbformat_minor": 5
}
